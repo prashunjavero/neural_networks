{
 "cells": [
  {
   "cell_type": "code",
   "execution_count": 7,
   "metadata": {},
   "outputs": [
    {
     "output_type": "stream",
     "name": "stdout",
     "text": [
      "2.4.0\n"
     ]
    }
   ],
   "source": [
    "# import packages\n",
    "import pandas as pd\n",
    "from early_stopping_util import EarlyStoppingCallback\n",
    "from models import fashion_mnist_classifier\n",
    "from image_utils import display_image,load_image\n",
    "from model_util import save_model,load_model \n",
    "from reporting_utils import batch_predict,predict_single,predict_images_from_test_set"
   ]
  },
  {
   "cell_type": "code",
   "execution_count": 8,
   "metadata": {},
   "outputs": [],
   "source": [
    "fashion_mnist = tf.keras.datasets.fashion_mnist\n",
    "(x_train, y_train),(x_test, y_test) = fashion_mnist.load_data()"
   ]
  },
  {
   "cell_type": "code",
   "execution_count": 9,
   "metadata": {},
   "outputs": [],
   "source": [
    "x_train = x_train / 255.0\n",
    "x_test = x_test / 255.0"
   ]
  },
  {
   "cell_type": "code",
   "execution_count": 10,
   "metadata": {},
   "outputs": [
    {
     "output_type": "stream",
     "name": "stdout",
     "text": [
      "Epoch 1/100\n",
      "1875/1875 [==============================] - 4s 2ms/step - loss: 0.6331 - accuracy: 0.7777\n",
      "0.8229166865348816\n",
      "Epoch 2/100\n",
      "1875/1875 [==============================] - 3s 2ms/step - loss: 0.3829 - accuracy: 0.8622\n",
      "0.8644833564758301\n",
      "Epoch 3/100\n",
      "1875/1875 [==============================] - 3s 2ms/step - loss: 0.3423 - accuracy: 0.8752\n",
      "0.8771166801452637\n",
      "Epoch 4/100\n",
      "1875/1875 [==============================] - 4s 2ms/step - loss: 0.3157 - accuracy: 0.8835\n",
      "0.885699987411499\n",
      "Epoch 5/100\n",
      "1875/1875 [==============================] - 3s 2ms/step - loss: 0.2904 - accuracy: 0.8923\n",
      "0.8922666907310486\n",
      "Epoch 6/100\n",
      "1875/1875 [==============================] - 3s 2ms/step - loss: 0.2818 - accuracy: 0.8956\n",
      "0.8961666822433472\n",
      "Epoch 7/100\n",
      "1875/1875 [==============================] - 3s 2ms/step - loss: 0.2617 - accuracy: 0.9018\n",
      "0.9012166857719421\n",
      "Epoch 8/100\n",
      "1875/1875 [==============================] - 3s 2ms/step - loss: 0.2546 - accuracy: 0.9052\n",
      "0.904283344745636\n",
      "Epoch 9/100\n",
      "1875/1875 [==============================] - 3s 2ms/step - loss: 0.2463 - accuracy: 0.9074\n",
      "0.906333327293396\n",
      "Epoch 10/100\n",
      "1875/1875 [==============================] - 3s 2ms/step - loss: 0.2381 - accuracy: 0.9103\n",
      "0.9105833172798157\n",
      "Epoch 11/100\n",
      "1875/1875 [==============================] - 3s 2ms/step - loss: 0.2384 - accuracy: 0.9118\n",
      "0.9123833179473877\n",
      "Epoch 12/100\n",
      "1875/1875 [==============================] - 3s 2ms/step - loss: 0.2223 - accuracy: 0.9165\n",
      "0.9165166616439819\n",
      "Epoch 13/100\n",
      "1875/1875 [==============================] - 4s 2ms/step - loss: 0.2166 - accuracy: 0.9181\n",
      "0.9178500175476074\n",
      "Epoch 14/100\n",
      "1875/1875 [==============================] - 3s 2ms/step - loss: 0.2059 - accuracy: 0.9230\n",
      "0.9212999939918518\n",
      "Epoch 15/100\n",
      "1875/1875 [==============================] - 3s 2ms/step - loss: 0.2023 - accuracy: 0.9245\n",
      "0.9225833415985107\n",
      "Epoch 16/100\n",
      "1875/1875 [==============================] - 4s 2ms/step - loss: 0.1964 - accuracy: 0.9235\n",
      "0.9233499765396118\n",
      "Epoch 17/100\n",
      "1875/1875 [==============================] - 3s 2ms/step - loss: 0.1896 - accuracy: 0.9303\n",
      "0.9269166588783264\n",
      "Epoch 18/100\n",
      "1875/1875 [==============================] - 3s 2ms/step - loss: 0.1892 - accuracy: 0.9285\n",
      "0.9288833141326904\n",
      "Epoch 19/100\n",
      "1875/1875 [==============================] - 4s 2ms/step - loss: 0.1793 - accuracy: 0.9330\n",
      "0.9315333366394043\n",
      "Epoch 20/100\n",
      "1875/1875 [==============================] - 3s 2ms/step - loss: 0.1757 - accuracy: 0.9336\n",
      "0.9319666624069214\n",
      "Epoch 21/100\n",
      "1875/1875 [==============================] - 3s 1ms/step - loss: 0.1730 - accuracy: 0.9357\n",
      "0.9351000189781189\n",
      "Epoch 22/100\n",
      "1875/1875 [==============================] - 3s 1ms/step - loss: 0.1668 - accuracy: 0.9361\n",
      "0.9356833100318909\n",
      "Epoch 23/100\n",
      "1875/1875 [==============================] - 2s 1ms/step - loss: 0.1619 - accuracy: 0.9386\n",
      "0.9364333152770996\n",
      "Epoch 24/100\n",
      "1875/1875 [==============================] - 2s 1ms/step - loss: 0.1616 - accuracy: 0.9403\n",
      "0.939466655254364\n",
      "Epoch 25/100\n",
      "1875/1875 [==============================] - 3s 2ms/step - loss: 0.1560 - accuracy: 0.9430\n",
      "0.9400666952133179\n",
      "Epoch 26/100\n",
      "1875/1875 [==============================] - 3s 2ms/step - loss: 0.1505 - accuracy: 0.9429\n",
      "0.9410499930381775\n",
      "Epoch 27/100\n",
      "1875/1875 [==============================] - 3s 2ms/step - loss: 0.1489 - accuracy: 0.9440\n",
      "0.9413166642189026\n",
      "Epoch 28/100\n",
      "1875/1875 [==============================] - 3s 2ms/step - loss: 0.1443 - accuracy: 0.9469\n",
      "0.9451166391372681\n",
      "Epoch 29/100\n",
      "1875/1875 [==============================] - 3s 2ms/step - loss: 0.1431 - accuracy: 0.9462\n",
      "0.9450500011444092\n",
      "Epoch 30/100\n",
      "1875/1875 [==============================] - 3s 2ms/step - loss: 0.1399 - accuracy: 0.9474\n",
      "0.947433352470398\n",
      "Epoch 31/100\n",
      "1875/1875 [==============================] - 3s 2ms/step - loss: 0.1331 - accuracy: 0.9507\n",
      "0.9475833177566528\n",
      "Epoch 32/100\n",
      "1875/1875 [==============================] - 3s 2ms/step - loss: 0.1356 - accuracy: 0.9485\n",
      "0.9478999972343445\n",
      "Epoch 33/100\n",
      "1875/1875 [==============================] - 4s 2ms/step - loss: 0.1332 - accuracy: 0.9496\n",
      "0.9480999708175659\n",
      "Epoch 34/100\n",
      "1875/1875 [==============================] - 3s 2ms/step - loss: 0.1274 - accuracy: 0.9519\n",
      "0.9515666961669922\n",
      "Epoch 35/100\n",
      "1875/1875 [==============================] - 3s 2ms/step - loss: 0.1279 - accuracy: 0.9514\n",
      "0.9508666396141052\n",
      "Epoch 36/100\n",
      "1875/1875 [==============================] - 3s 2ms/step - loss: 0.1235 - accuracy: 0.9530\n",
      "0.9523333311080933\n",
      "Epoch 37/100\n",
      "1875/1875 [==============================] - 4s 2ms/step - loss: 0.1193 - accuracy: 0.9554\n",
      "0.95333331823349\n",
      "Epoch 38/100\n",
      "1875/1875 [==============================] - 4s 2ms/step - loss: 0.1196 - accuracy: 0.9544\n",
      "0.9540833234786987\n",
      "Epoch 39/100\n",
      "1875/1875 [==============================] - 3s 2ms/step - loss: 0.1177 - accuracy: 0.9571\n",
      "0.956333339214325\n",
      "Epoch 40/100\n",
      "1875/1875 [==============================] - 3s 2ms/step - loss: 0.1176 - accuracy: 0.9560\n",
      "0.9557333588600159\n",
      "Epoch 41/100\n",
      "1875/1875 [==============================] - 4s 2ms/step - loss: 0.1124 - accuracy: 0.9581\n",
      "0.956933319568634\n",
      "Epoch 42/100\n",
      "1875/1875 [==============================] - 3s 2ms/step - loss: 0.1099 - accuracy: 0.9583\n",
      "0.9579833149909973\n",
      "Epoch 43/100\n",
      "1875/1875 [==============================] - 3s 2ms/step - loss: 0.1051 - accuracy: 0.9612\n",
      "0.9586666822433472\n",
      "Epoch 44/100\n",
      "1875/1875 [==============================] - 3s 2ms/step - loss: 0.1039 - accuracy: 0.9619\n",
      "0.9598833322525024\n",
      "Epoch 45/100\n",
      "1875/1875 [==============================] - 3s 2ms/step - loss: 0.1066 - accuracy: 0.9594\n",
      "0.9595000147819519\n",
      "Epoch 46/100\n",
      "1875/1875 [==============================] - 3s 2ms/step - loss: 0.1046 - accuracy: 0.9603\n",
      "0.9602500200271606\n",
      "Epoch 47/100\n",
      "1875/1875 [==============================] - 3s 2ms/step - loss: 0.1003 - accuracy: 0.9619\n",
      "0.9605000019073486\n",
      "Epoch 48/100\n",
      "1875/1875 [==============================] - 4s 2ms/step - loss: 0.0967 - accuracy: 0.9630\n",
      "0.9621666669845581\n",
      "Epoch 49/100\n",
      "1875/1875 [==============================] - 5s 3ms/step - loss: 0.0956 - accuracy: 0.9646\n",
      "0.9632166624069214\n",
      "Epoch 50/100\n",
      "1875/1875 [==============================] - 7s 4ms/step - loss: 0.0938 - accuracy: 0.9649\n",
      "0.9631833434104919\n",
      "Epoch 51/100\n",
      "1875/1875 [==============================] - 6s 3ms/step - loss: 0.0933 - accuracy: 0.9640\n",
      "0.9628666639328003\n",
      "Epoch 52/100\n",
      "1875/1875 [==============================] - 5s 3ms/step - loss: 0.0954 - accuracy: 0.9641\n",
      "0.9648666381835938\n",
      "Epoch 53/100\n",
      "1875/1875 [==============================] - 4s 2ms/step - loss: 0.0955 - accuracy: 0.9646\n",
      "0.9650999903678894\n",
      "Epoch 54/100\n",
      "1875/1875 [==============================] - 3s 2ms/step - loss: 0.0905 - accuracy: 0.9654\n",
      "0.9654499888420105\n",
      "Epoch 55/100\n",
      "1875/1875 [==============================] - 4s 2ms/step - loss: 0.0907 - accuracy: 0.9660\n",
      "0.9655166864395142\n",
      "Epoch 56/100\n",
      "1875/1875 [==============================] - 4s 2ms/step - loss: 0.0882 - accuracy: 0.9672\n",
      "0.9664166569709778\n",
      "Epoch 57/100\n",
      "1875/1875 [==============================] - 4s 2ms/step - loss: 0.0821 - accuracy: 0.9699\n",
      "0.9672333598136902\n",
      "Epoch 58/100\n",
      "1875/1875 [==============================] - 4s 2ms/step - loss: 0.0845 - accuracy: 0.9687\n",
      "0.9682166576385498\n",
      "Epoch 59/100\n",
      "1875/1875 [==============================] - 5s 2ms/step - loss: 0.0864 - accuracy: 0.9677\n",
      "0.9678833484649658\n",
      "Epoch 60/100\n",
      "1875/1875 [==============================] - 4s 2ms/step - loss: 0.0848 - accuracy: 0.9678\n",
      "0.9673166871070862\n",
      "Epoch 61/100\n",
      "1875/1875 [==============================] - 4s 2ms/step - loss: 0.0821 - accuracy: 0.9699\n",
      "0.9688000082969666\n",
      "Epoch 62/100\n",
      "1875/1875 [==============================] - 3s 2ms/step - loss: 0.0795 - accuracy: 0.9706\n",
      "0.9693833589553833\n",
      "Epoch 63/100\n",
      "1875/1875 [==============================] - 3s 2ms/step - loss: 0.0752 - accuracy: 0.9722\n",
      "0.9696833491325378\n",
      "Epoch 64/100\n",
      "1875/1875 [==============================] - 4s 2ms/step - loss: 0.0752 - accuracy: 0.9716\n",
      "0.9705333113670349\n",
      "Epoch 65/100\n",
      "1875/1875 [==============================] - 10s 5ms/step - loss: 0.0793 - accuracy: 0.9703\n",
      "0.9700999855995178\n",
      "Epoch 66/100\n",
      "1875/1875 [==============================] - 8s 4ms/step - loss: 0.0720 - accuracy: 0.9728\n",
      "0.9716333150863647\n",
      "Epoch 67/100\n",
      "1875/1875 [==============================] - 10s 6ms/step - loss: 0.0758 - accuracy: 0.9716\n",
      "0.9712499976158142\n",
      "Epoch 68/100\n",
      "1875/1875 [==============================] - 6s 3ms/step - loss: 0.0738 - accuracy: 0.9725\n",
      "0.9722166657447815\n",
      "Epoch 69/100\n",
      "1875/1875 [==============================] - 4s 2ms/step - loss: 0.0723 - accuracy: 0.9729\n",
      "0.9725333452224731\n",
      "Epoch 70/100\n",
      "1875/1875 [==============================] - 4s 2ms/step - loss: 0.0730 - accuracy: 0.9729\n",
      "0.9718499779701233\n",
      "Epoch 71/100\n",
      "1875/1875 [==============================] - 4s 2ms/step - loss: 0.0728 - accuracy: 0.9724\n",
      "0.972350001335144\n",
      "Epoch 72/100\n",
      "1875/1875 [==============================] - 4s 2ms/step - loss: 0.0684 - accuracy: 0.9755\n",
      "0.9743166565895081\n",
      "Epoch 73/100\n",
      "1875/1875 [==============================] - 5s 3ms/step - loss: 0.0640 - accuracy: 0.9764\n",
      "0.9737666845321655\n",
      "Epoch 74/100\n",
      "1875/1875 [==============================] - 4s 2ms/step - loss: 0.0642 - accuracy: 0.9760\n",
      "0.9748166799545288\n",
      "Epoch 75/100\n",
      "1875/1875 [==============================] - 4s 2ms/step - loss: 0.0654 - accuracy: 0.9741\n",
      "0.9742500185966492\n",
      "Epoch 76/100\n",
      "1875/1875 [==============================] - 4s 2ms/step - loss: 0.0631 - accuracy: 0.9762\n",
      "0.9740666747093201\n",
      "Epoch 77/100\n",
      "1875/1875 [==============================] - 5s 3ms/step - loss: 0.0696 - accuracy: 0.9734\n",
      "0.9745500087738037\n",
      "Epoch 78/100\n",
      "1875/1875 [==============================] - 5s 3ms/step - loss: 0.0632 - accuracy: 0.9763\n",
      "0.9752500057220459\n",
      "Epoch 79/100\n",
      "1875/1875 [==============================] - 4s 2ms/step - loss: 0.0659 - accuracy: 0.9761\n",
      "0.975433349609375\n",
      "Epoch 80/100\n",
      "1875/1875 [==============================] - 4s 2ms/step - loss: 0.0611 - accuracy: 0.9779\n",
      "0.9770333170890808\n",
      "Epoch 81/100\n",
      "1875/1875 [==============================] - 4s 2ms/step - loss: 0.0623 - accuracy: 0.9761\n",
      "0.9749500155448914\n",
      "Epoch 82/100\n",
      "1875/1875 [==============================] - 4s 2ms/step - loss: 0.0587 - accuracy: 0.9783\n",
      "0.9764999747276306\n",
      "Epoch 83/100\n",
      "1875/1875 [==============================] - 4s 2ms/step - loss: 0.0584 - accuracy: 0.9773\n",
      "0.9760333299636841\n",
      "Epoch 84/100\n",
      "1875/1875 [==============================] - 4s 2ms/step - loss: 0.0571 - accuracy: 0.9782\n",
      "0.9780333042144775\n",
      "Epoch 85/100\n",
      "1875/1875 [==============================] - 5s 3ms/step - loss: 0.0570 - accuracy: 0.9782\n",
      "0.9770333170890808\n",
      "Epoch 86/100\n",
      "1875/1875 [==============================] - 4s 2ms/step - loss: 0.0668 - accuracy: 0.9764\n",
      "0.9764666557312012\n",
      "Epoch 87/100\n",
      "1875/1875 [==============================] - 4s 2ms/step - loss: 0.0595 - accuracy: 0.9775\n",
      "0.9773833155632019\n",
      "Epoch 88/100\n",
      "1875/1875 [==============================] - 4s 2ms/step - loss: 0.0596 - accuracy: 0.9778\n",
      "0.9773499965667725\n",
      "Epoch 89/100\n",
      "1875/1875 [==============================] - 5s 3ms/step - loss: 0.0573 - accuracy: 0.9781\n",
      "0.9775999784469604\n",
      "Epoch 90/100\n",
      "1875/1875 [==============================] - 5s 3ms/step - loss: 0.0570 - accuracy: 0.9786\n",
      "0.9786499738693237\n",
      "Epoch 91/100\n",
      "1875/1875 [==============================] - 4s 2ms/step - loss: 0.0521 - accuracy: 0.9801\n",
      "0.9783333539962769\n",
      "Epoch 92/100\n",
      "1875/1875 [==============================] - 4s 2ms/step - loss: 0.0582 - accuracy: 0.9781\n",
      "0.978866696357727\n",
      "Epoch 93/100\n",
      "1875/1875 [==============================] - 3s 2ms/step - loss: 0.0519 - accuracy: 0.9804\n",
      "0.9794999957084656\n",
      "Epoch 94/100\n",
      "1875/1875 [==============================] - 4s 2ms/step - loss: 0.0594 - accuracy: 0.9779\n",
      "0.9786166548728943\n",
      "Epoch 95/100\n",
      "1875/1875 [==============================] - 4s 2ms/step - loss: 0.0458 - accuracy: 0.9826\n",
      "0.9790999889373779\n",
      "Epoch 96/100\n",
      "1875/1875 [==============================] - 5s 2ms/step - loss: 0.0501 - accuracy: 0.9817\n",
      "0.9805999994277954\n",
      "Epoch 97/100\n",
      "1875/1875 [==============================] - 4s 2ms/step - loss: 0.0544 - accuracy: 0.9798\n",
      "0.9799166917800903\n",
      "Epoch 98/100\n",
      "1875/1875 [==============================] - 4s 2ms/step - loss: 0.0521 - accuracy: 0.9808\n",
      "0.980733335018158\n",
      "Epoch 99/100\n",
      "1875/1875 [==============================] - 4s 2ms/step - loss: 0.0553 - accuracy: 0.9795\n",
      "0.979366660118103\n",
      "Epoch 100/100\n",
      "1875/1875 [==============================] - 4s 2ms/step - loss: 0.0490 - accuracy: 0.9816\n",
      "0.9803833365440369\n",
      "Reached trainig end returning model \n"
     ]
    }
   ],
   "source": [
    "model = fashion_mnist_classifier(optimizer='adam', loss='sparse_categorical_crossentropy')\n",
    "# model fitting\n",
    "history = model.fit(\n",
    "        x_train,\n",
    "        y_train,\n",
    "        epochs=100,\n",
    "        callbacks=[EarlyStoppingCallback()],\n",
    "    )"
   ]
  },
  {
   "cell_type": "code",
   "execution_count": 11,
   "metadata": {},
   "outputs": [
    {
     "output_type": "stream",
     "name": "stdout",
     "text": [
      "313/313 [==============================] - 1s 2ms/step - loss: 0.7706 - accuracy: 0.8883\n",
      "\n",
      "Test accuracy: 0.8883000016212463\n"
     ]
    }
   ],
   "source": [
    "test_loss, test_acc = model.evaluate(x_test,y_test, verbose=1)\n",
    "print('\\nTest accuracy:', test_acc)"
   ]
  },
  {
   "cell_type": "code",
   "execution_count": 12,
   "metadata": {},
   "outputs": [
    {
     "output_type": "stream",
     "name": "stdout",
     "text": [
      "INFO:tensorflow:Assets written to: ./models/multi_class_image_classifier/assets\n"
     ]
    }
   ],
   "source": [
    "save_model(model,'./models/multi_class_image_classifier')"
   ]
  },
  {
   "cell_type": "code",
   "execution_count": 13,
   "metadata": {},
   "outputs": [
    {
     "output_type": "execute_result",
     "data": {
      "text/plain": [
       "'Dress'"
      ]
     },
     "metadata": {},
     "execution_count": 13
    },
    {
     "output_type": "display_data",
     "data": {
      "text/plain": "<Figure size 432x288 with 1 Axes>",
      "image/svg+xml": "<?xml version=\"1.0\" encoding=\"utf-8\" standalone=\"no\"?>\n<!DOCTYPE svg PUBLIC \"-//W3C//DTD SVG 1.1//EN\"\n  \"http://www.w3.org/Graphics/SVG/1.1/DTD/svg11.dtd\">\n<!-- Created with matplotlib (https://matplotlib.org/) -->\n<svg height=\"248.518125pt\" version=\"1.1\" viewBox=\"0 0 251.565 248.518125\" width=\"251.565pt\" xmlns=\"http://www.w3.org/2000/svg\" xmlns:xlink=\"http://www.w3.org/1999/xlink\">\n <metadata>\n  <rdf:RDF xmlns:cc=\"http://creativecommons.org/ns#\" xmlns:dc=\"http://purl.org/dc/elements/1.1/\" xmlns:rdf=\"http://www.w3.org/1999/02/22-rdf-syntax-ns#\">\n   <cc:Work>\n    <dc:type rdf:resource=\"http://purl.org/dc/dcmitype/StillImage\"/>\n    <dc:date>2021-05-07T09:21:34.799044</dc:date>\n    <dc:format>image/svg+xml</dc:format>\n    <dc:creator>\n     <cc:Agent>\n      <dc:title>Matplotlib v3.3.2, https://matplotlib.org/</dc:title>\n     </cc:Agent>\n    </dc:creator>\n   </cc:Work>\n  </rdf:RDF>\n </metadata>\n <defs>\n  <style type=\"text/css\">*{stroke-linecap:butt;stroke-linejoin:round;}</style>\n </defs>\n <g id=\"figure_1\">\n  <g id=\"patch_1\">\n   <path d=\"M 0 248.518125 \nL 251.565 248.518125 \nL 251.565 0 \nL 0 0 \nz\n\" style=\"fill:none;\"/>\n  </g>\n  <g id=\"axes_1\">\n   <g id=\"patch_2\">\n    <path d=\"M 26.925 224.64 \nL 244.365 224.64 \nL 244.365 7.2 \nL 26.925 7.2 \nz\n\" style=\"fill:#ffffff;\"/>\n   </g>\n   <g clip-path=\"url(#pa79b207e96)\">\n    <image height=\"218\" id=\"image34b13207a3\" transform=\"scale(1 -1)translate(0 -218)\" width=\"218\" x=\"26.925\" xlink:href=\"data:image/png;base64,\niVBORw0KGgoAAAANSUhEUgAAANoAAADaCAYAAADAHVzbAAAH30lEQVR4nO3dy4scVRzF8VvV3dMz6XlkYl7GV0iMJIjgMhoUF1m7UVFw40YXghsR8b+QILhyoeJC3ChoFi4MqKBJUKNo4iNRE595TJLJzPRM93R1lSsXQt9TWp05wvT3sz3crk5PTl/oH7cqOZg8XAT8Z3NP3SPz+b3xjzWfyOXaqTN1mW/9oiPzbENN5vXlfjS7vG9cX/vlT2SOwdL/+w0Ao4CiAQYUDTCgaIABRQMMKBpgQNEAAz2wGWGnD+2X+TcPHZL5R52paLarcUWu3VHTc7CvVsdk3kp6Mp/PJ6LZ2d5muXbPc+dl/vwLT8t88q2jMl+v2NEAA4oGGFA0wICiAQYUDTCgaIABRQMMmKNFvPngSzJ/u32jzL9d2RHNVls/yrWvt3fLfCHTZ8bmupMyb9VXo1ma6LNy4zN6RteZTWSu39n6xY4GGFA0wICiAQYUDTCgaIABRQMM+Hk/4vnTj8j8mZ1HKr/29vo1mW9rLMi8VvITfDfXf9aNjZVottJvyLWXsmmZbzqlb4U3qtjRAAOKBhhQNMCAogEGFA0woGiAAUUDDJijRSx29S3dbmlclvnxYlc06xR6VtUP+qhJJ9fra4l+ElcjiT+2aS7TB1kenT4l88Mr98l8VJ8Rxo4GGFA0wICiAQYUDTCgaIABRQMMKBpgwBwtYrGtb+k2VfJopGHkhf7+yws9Z6uLOVkIIczUl6PZn2FGrm3nehJWm9Nn6TKZrl/saIABRQMMKBpgQNEAA4oGGFA0wICiAQbM0SJ6C02Zb0z1vRXVrKtsTqbOi5W9dgghpEOcR6un+tpl+n9eGGr9esWOBhhQNMCAogEGFA0woGiAAUUDDCgaYMAcLaJ5Xn80M6m+76N6RtlqUZNr05Lnn5Upm8PVxN0Vs1y/tyu5/ncX3a7MRxU7GmBA0QADigYYUDTAgKIBBhQNMODn/YjGkj6K0kz0R7fSj/8M3gv6J/RuyWOZyvJWvfpP7GXHZBZzfRs+DMaOBhhQNMCAogEGFA0woGiAAUUDDCgaYMAcLaL1uz6qUkuqf0ct9icqrw0hhDzoGV/Z7eiWxVGXWsmt6s72Nsscg7GjAQYUDTCgaIABRQMMKBpgQNEAA4oGGDBHi5j9en6o9Q1xrqud60dCld1uLhW3i/s3+uKxURPpqlx75OrekldfqPCO1j92NMCAogEGFA0woGiAAUUDDCgaYEDRAAPmaBHFqTNDrd8ythjNyu6NWPbYpWHPo/XEY6Om6x259v1z+2R+Uzgp81HFjgYYUDTAgKIBBhQNMKBogAFFAwz4eT+iyDKZX+y3Zd5M4uuX+/qYzEx9Wea9XD/2qVXTx2iWxPW3juljLu2LLZljMHY0wICiAQYUDTCgaIABRQMMKBpgQNEAA+ZoFb27tFvmahb2e3e28toQym9H10z1DFDN0cqO6Myc5L9MFexogAFFAwwoGmBA0QADigYYUDTAgKIBBgxFKjp86S6ZP7Tti2h2Ot8m13bzhswnaj2Zl91uTuVlZ+Vmf9CPdcJg7GiAAUUDDCgaYEDRAAOKBhhQNMCAogEGzNEqOvH9Tpk/tv14NJusdeXaTskcrRb0ebRurv+seRH/flVn1UIIYfyCPiun39noYkcDDCgaYEDRAAOKBhhQNMCAogEGFA0wYI5W0ezn+qMbfyB+ZqxX6Oeb5UGfJ6unw83RlAemvpX551/y3VwFnxpgQNEAA4oGGFA0wICiAQYUDTDg5/2Kth5bkPl8f0M0Kzvmstwfq/Se/nZlNX7tEELYMrYUzT5YvHOoa2MwdjTAgKIBBhQNMKBogAFFAwwoGmBA0QAD5mgVFSdOynz/xLlodiGbkWuvZXoOtrt5XuYXu1MyT5Mimn12+Va5th5+kTkGY0cDDCgaYEDRAAOKBhhQNMCAogEGFA0wYI62Rp76/vFo9uRtH8u1U2lH5uNp/FZ2/4aao/10ZrtcewdztErY0QADigYYUDTAgKIBBhQNMKBogAFFAwyYo8Uk+tFJoYjPokII4dzPW6LZ+E49B5sP+jzalWxS5n+09Xm3g7Onotl7v9wr15Ya8nNbr9jRAAOKBhhQNMCAogEGFA0woGiAAUUDDJijxQw570k3ZNGslXbl2rwY7vvv7k2/yVzO4UZzzLXm2NEAA4oGGFA0wICiAQYUDTCgaIABP++vkfv3nIlmFzP9WKW5kmMwjaQv8yzX35/q9Vd26NcuNaLHYMqwowEGFA0woGiAAUUDDCgaYEDRAAOKBhgwR1sjm8eWotkPnRvl2k31tsxvG5uT+aW6ntN90745mhUbhpyjYSB2NMCAogEGFA0woGiAAUUDDCgaYEDRAAPmaBUlzabM75v6Oppdyqbl2lfOHpB58Ub8kVAhhHDg2eMy39Gcj2bTN+gZHqphRwMMKBpgQNEAA4oGGFA0wICiAQYUDTBIDiYPcyO+NXD+nX3RbOuL43Jt+uGJ6/12/uHqE/dEs9uf/E6uvXzg6vV+OyOBHQ0woGiAAUUDDCgaYEDRAAOKBhhwTKaitNWS+fRr8aMw6YfHhrt4kui85NFJs69+Gs3OdvbLtVPhqL42BmJHAwwoGmBA0QADigYYUDTAgKIBBhQNMGCOVlHR7cp88qeFaJYPfXE9J0vq+s9aZFk0m/y1o6895AxvVLGjAQYUDTCgaIABRQMMKBpgQNEAA4oGGPwFr7t/XZKBtMcAAAAASUVORK5CYII=\" y=\"-6.64\"/>\n   </g>\n   <g id=\"matplotlib.axis_1\">\n    <g id=\"xtick_1\">\n     <g id=\"line2d_1\">\n      <defs>\n       <path d=\"M 0 0 \nL 0 3.5 \n\" id=\"m95888e93e1\" style=\"stroke:#000000;stroke-width:0.8;\"/>\n      </defs>\n      <g>\n       <use style=\"stroke:#000000;stroke-width:0.8;\" x=\"30.807857\" xlink:href=\"#m95888e93e1\" y=\"224.64\"/>\n      </g>\n     </g>\n     <g id=\"text_1\">\n      <!-- 0 -->\n      <g transform=\"translate(27.626607 239.238437)scale(0.1 -0.1)\">\n       <defs>\n        <path d=\"M 31.78125 66.40625 \nQ 24.171875 66.40625 20.328125 58.90625 \nQ 16.5 51.421875 16.5 36.375 \nQ 16.5 21.390625 20.328125 13.890625 \nQ 24.171875 6.390625 31.78125 6.390625 \nQ 39.453125 6.390625 43.28125 13.890625 \nQ 47.125 21.390625 47.125 36.375 \nQ 47.125 51.421875 43.28125 58.90625 \nQ 39.453125 66.40625 31.78125 66.40625 \nz\nM 31.78125 74.21875 \nQ 44.046875 74.21875 50.515625 64.515625 \nQ 56.984375 54.828125 56.984375 36.375 \nQ 56.984375 17.96875 50.515625 8.265625 \nQ 44.046875 -1.421875 31.78125 -1.421875 \nQ 19.53125 -1.421875 13.0625 8.265625 \nQ 6.59375 17.96875 6.59375 36.375 \nQ 6.59375 54.828125 13.0625 64.515625 \nQ 19.53125 74.21875 31.78125 74.21875 \nz\n\" id=\"DejaVuSans-48\"/>\n       </defs>\n       <use xlink:href=\"#DejaVuSans-48\"/>\n      </g>\n     </g>\n    </g>\n    <g id=\"xtick_2\">\n     <g id=\"line2d_2\">\n      <g>\n       <use style=\"stroke:#000000;stroke-width:0.8;\" x=\"69.636429\" xlink:href=\"#m95888e93e1\" y=\"224.64\"/>\n      </g>\n     </g>\n     <g id=\"text_2\">\n      <!-- 5 -->\n      <g transform=\"translate(66.455179 239.238437)scale(0.1 -0.1)\">\n       <defs>\n        <path d=\"M 10.796875 72.90625 \nL 49.515625 72.90625 \nL 49.515625 64.59375 \nL 19.828125 64.59375 \nL 19.828125 46.734375 \nQ 21.96875 47.46875 24.109375 47.828125 \nQ 26.265625 48.1875 28.421875 48.1875 \nQ 40.625 48.1875 47.75 41.5 \nQ 54.890625 34.8125 54.890625 23.390625 \nQ 54.890625 11.625 47.5625 5.09375 \nQ 40.234375 -1.421875 26.90625 -1.421875 \nQ 22.3125 -1.421875 17.546875 -0.640625 \nQ 12.796875 0.140625 7.71875 1.703125 \nL 7.71875 11.625 \nQ 12.109375 9.234375 16.796875 8.0625 \nQ 21.484375 6.890625 26.703125 6.890625 \nQ 35.15625 6.890625 40.078125 11.328125 \nQ 45.015625 15.765625 45.015625 23.390625 \nQ 45.015625 31 40.078125 35.4375 \nQ 35.15625 39.890625 26.703125 39.890625 \nQ 22.75 39.890625 18.8125 39.015625 \nQ 14.890625 38.140625 10.796875 36.28125 \nz\n\" id=\"DejaVuSans-53\"/>\n       </defs>\n       <use xlink:href=\"#DejaVuSans-53\"/>\n      </g>\n     </g>\n    </g>\n    <g id=\"xtick_3\">\n     <g id=\"line2d_3\">\n      <g>\n       <use style=\"stroke:#000000;stroke-width:0.8;\" x=\"108.465\" xlink:href=\"#m95888e93e1\" y=\"224.64\"/>\n      </g>\n     </g>\n     <g id=\"text_3\">\n      <!-- 10 -->\n      <g transform=\"translate(102.1025 239.238437)scale(0.1 -0.1)\">\n       <defs>\n        <path d=\"M 12.40625 8.296875 \nL 28.515625 8.296875 \nL 28.515625 63.921875 \nL 10.984375 60.40625 \nL 10.984375 69.390625 \nL 28.421875 72.90625 \nL 38.28125 72.90625 \nL 38.28125 8.296875 \nL 54.390625 8.296875 \nL 54.390625 0 \nL 12.40625 0 \nz\n\" id=\"DejaVuSans-49\"/>\n       </defs>\n       <use xlink:href=\"#DejaVuSans-49\"/>\n       <use x=\"63.623047\" xlink:href=\"#DejaVuSans-48\"/>\n      </g>\n     </g>\n    </g>\n    <g id=\"xtick_4\">\n     <g id=\"line2d_4\">\n      <g>\n       <use style=\"stroke:#000000;stroke-width:0.8;\" x=\"147.293571\" xlink:href=\"#m95888e93e1\" y=\"224.64\"/>\n      </g>\n     </g>\n     <g id=\"text_4\">\n      <!-- 15 -->\n      <g transform=\"translate(140.931071 239.238437)scale(0.1 -0.1)\">\n       <use xlink:href=\"#DejaVuSans-49\"/>\n       <use x=\"63.623047\" xlink:href=\"#DejaVuSans-53\"/>\n      </g>\n     </g>\n    </g>\n    <g id=\"xtick_5\">\n     <g id=\"line2d_5\">\n      <g>\n       <use style=\"stroke:#000000;stroke-width:0.8;\" x=\"186.122143\" xlink:href=\"#m95888e93e1\" y=\"224.64\"/>\n      </g>\n     </g>\n     <g id=\"text_5\">\n      <!-- 20 -->\n      <g transform=\"translate(179.759643 239.238437)scale(0.1 -0.1)\">\n       <defs>\n        <path d=\"M 19.1875 8.296875 \nL 53.609375 8.296875 \nL 53.609375 0 \nL 7.328125 0 \nL 7.328125 8.296875 \nQ 12.9375 14.109375 22.625 23.890625 \nQ 32.328125 33.6875 34.8125 36.53125 \nQ 39.546875 41.84375 41.421875 45.53125 \nQ 43.3125 49.21875 43.3125 52.78125 \nQ 43.3125 58.59375 39.234375 62.25 \nQ 35.15625 65.921875 28.609375 65.921875 \nQ 23.96875 65.921875 18.8125 64.3125 \nQ 13.671875 62.703125 7.8125 59.421875 \nL 7.8125 69.390625 \nQ 13.765625 71.78125 18.9375 73 \nQ 24.125 74.21875 28.421875 74.21875 \nQ 39.75 74.21875 46.484375 68.546875 \nQ 53.21875 62.890625 53.21875 53.421875 \nQ 53.21875 48.921875 51.53125 44.890625 \nQ 49.859375 40.875 45.40625 35.40625 \nQ 44.1875 33.984375 37.640625 27.21875 \nQ 31.109375 20.453125 19.1875 8.296875 \nz\n\" id=\"DejaVuSans-50\"/>\n       </defs>\n       <use xlink:href=\"#DejaVuSans-50\"/>\n       <use x=\"63.623047\" xlink:href=\"#DejaVuSans-48\"/>\n      </g>\n     </g>\n    </g>\n    <g id=\"xtick_6\">\n     <g id=\"line2d_6\">\n      <g>\n       <use style=\"stroke:#000000;stroke-width:0.8;\" x=\"224.950714\" xlink:href=\"#m95888e93e1\" y=\"224.64\"/>\n      </g>\n     </g>\n     <g id=\"text_6\">\n      <!-- 25 -->\n      <g transform=\"translate(218.588214 239.238437)scale(0.1 -0.1)\">\n       <use xlink:href=\"#DejaVuSans-50\"/>\n       <use x=\"63.623047\" xlink:href=\"#DejaVuSans-53\"/>\n      </g>\n     </g>\n    </g>\n   </g>\n   <g id=\"matplotlib.axis_2\">\n    <g id=\"ytick_1\">\n     <g id=\"line2d_7\">\n      <defs>\n       <path d=\"M 0 0 \nL -3.5 0 \n\" id=\"mc75344a066\" style=\"stroke:#000000;stroke-width:0.8;\"/>\n      </defs>\n      <g>\n       <use style=\"stroke:#000000;stroke-width:0.8;\" x=\"26.925\" xlink:href=\"#mc75344a066\" y=\"11.082857\"/>\n      </g>\n     </g>\n     <g id=\"text_7\">\n      <!-- 0 -->\n      <g transform=\"translate(13.5625 14.882076)scale(0.1 -0.1)\">\n       <use xlink:href=\"#DejaVuSans-48\"/>\n      </g>\n     </g>\n    </g>\n    <g id=\"ytick_2\">\n     <g id=\"line2d_8\">\n      <g>\n       <use style=\"stroke:#000000;stroke-width:0.8;\" x=\"26.925\" xlink:href=\"#mc75344a066\" y=\"49.911429\"/>\n      </g>\n     </g>\n     <g id=\"text_8\">\n      <!-- 5 -->\n      <g transform=\"translate(13.5625 53.710647)scale(0.1 -0.1)\">\n       <use xlink:href=\"#DejaVuSans-53\"/>\n      </g>\n     </g>\n    </g>\n    <g id=\"ytick_3\">\n     <g id=\"line2d_9\">\n      <g>\n       <use style=\"stroke:#000000;stroke-width:0.8;\" x=\"26.925\" xlink:href=\"#mc75344a066\" y=\"88.74\"/>\n      </g>\n     </g>\n     <g id=\"text_9\">\n      <!-- 10 -->\n      <g transform=\"translate(7.2 92.539219)scale(0.1 -0.1)\">\n       <use xlink:href=\"#DejaVuSans-49\"/>\n       <use x=\"63.623047\" xlink:href=\"#DejaVuSans-48\"/>\n      </g>\n     </g>\n    </g>\n    <g id=\"ytick_4\">\n     <g id=\"line2d_10\">\n      <g>\n       <use style=\"stroke:#000000;stroke-width:0.8;\" x=\"26.925\" xlink:href=\"#mc75344a066\" y=\"127.568571\"/>\n      </g>\n     </g>\n     <g id=\"text_10\">\n      <!-- 15 -->\n      <g transform=\"translate(7.2 131.36779)scale(0.1 -0.1)\">\n       <use xlink:href=\"#DejaVuSans-49\"/>\n       <use x=\"63.623047\" xlink:href=\"#DejaVuSans-53\"/>\n      </g>\n     </g>\n    </g>\n    <g id=\"ytick_5\">\n     <g id=\"line2d_11\">\n      <g>\n       <use style=\"stroke:#000000;stroke-width:0.8;\" x=\"26.925\" xlink:href=\"#mc75344a066\" y=\"166.397143\"/>\n      </g>\n     </g>\n     <g id=\"text_11\">\n      <!-- 20 -->\n      <g transform=\"translate(7.2 170.196362)scale(0.1 -0.1)\">\n       <use xlink:href=\"#DejaVuSans-50\"/>\n       <use x=\"63.623047\" xlink:href=\"#DejaVuSans-48\"/>\n      </g>\n     </g>\n    </g>\n    <g id=\"ytick_6\">\n     <g id=\"line2d_12\">\n      <g>\n       <use style=\"stroke:#000000;stroke-width:0.8;\" x=\"26.925\" xlink:href=\"#mc75344a066\" y=\"205.225714\"/>\n      </g>\n     </g>\n     <g id=\"text_12\">\n      <!-- 25 -->\n      <g transform=\"translate(7.2 209.024933)scale(0.1 -0.1)\">\n       <use xlink:href=\"#DejaVuSans-50\"/>\n       <use x=\"63.623047\" xlink:href=\"#DejaVuSans-53\"/>\n      </g>\n     </g>\n    </g>\n   </g>\n   <g id=\"patch_3\">\n    <path d=\"M 26.925 224.64 \nL 26.925 7.2 \n\" style=\"fill:none;stroke:#000000;stroke-linecap:square;stroke-linejoin:miter;stroke-width:0.8;\"/>\n   </g>\n   <g id=\"patch_4\">\n    <path d=\"M 244.365 224.64 \nL 244.365 7.2 \n\" style=\"fill:none;stroke:#000000;stroke-linecap:square;stroke-linejoin:miter;stroke-width:0.8;\"/>\n   </g>\n   <g id=\"patch_5\">\n    <path d=\"M 26.925 224.64 \nL 244.365 224.64 \n\" style=\"fill:none;stroke:#000000;stroke-linecap:square;stroke-linejoin:miter;stroke-width:0.8;\"/>\n   </g>\n   <g id=\"patch_6\">\n    <path d=\"M 26.925 7.2 \nL 244.365 7.2 \n\" style=\"fill:none;stroke:#000000;stroke-linecap:square;stroke-linejoin:miter;stroke-width:0.8;\"/>\n   </g>\n  </g>\n </g>\n <defs>\n  <clipPath id=\"pa79b207e96\">\n   <rect height=\"217.44\" width=\"217.44\" x=\"26.925\" y=\"7.2\"/>\n  </clipPath>\n </defs>\n</svg>\n",
      "image/png": "[encoded data removed]"
     },
     "metadata": {
      "needs_background": "light"
     }
    }
   ],
   "source": [
    "predict_images_from_test_set(model,x_test,class_names,13)"
   ]
  },
  {
   "cell_type": "code",
   "execution_count": 14,
   "metadata": {},
   "outputs": [
    {
     "output_type": "execute_result",
     "data": {
      "text/plain": [
       "'Trouser'"
      ]
     },
     "metadata": {},
     "execution_count": 14
    },
    {
     "output_type": "display_data",
     "data": {
      "text/plain": "<Figure size 432x288 with 1 Axes>",
      "image/svg+xml": "<?xml version=\"1.0\" encoding=\"utf-8\" standalone=\"no\"?>\n<!DOCTYPE svg PUBLIC \"-//W3C//DTD SVG 1.1//EN\"\n  \"http://www.w3.org/Graphics/SVG/1.1/DTD/svg11.dtd\">\n<!-- Created with matplotlib (https://matplotlib.org/) -->\n<svg height=\"248.518125pt\" version=\"1.1\" viewBox=\"0 0 251.565 248.518125\" width=\"251.565pt\" xmlns=\"http://www.w3.org/2000/svg\" xmlns:xlink=\"http://www.w3.org/1999/xlink\">\n <metadata>\n  <rdf:RDF xmlns:cc=\"http://creativecommons.org/ns#\" xmlns:dc=\"http://purl.org/dc/elements/1.1/\" xmlns:rdf=\"http://www.w3.org/1999/02/22-rdf-syntax-ns#\">\n   <cc:Work>\n    <dc:type rdf:resource=\"http://purl.org/dc/dcmitype/StillImage\"/>\n    <dc:date>2021-05-07T09:21:35.376136</dc:date>\n    <dc:format>image/svg+xml</dc:format>\n    <dc:creator>\n     <cc:Agent>\n      <dc:title>Matplotlib v3.3.2, https://matplotlib.org/</dc:title>\n     </cc:Agent>\n    </dc:creator>\n   </cc:Work>\n  </rdf:RDF>\n </metadata>\n <defs>\n  <style type=\"text/css\">*{stroke-linecap:butt;stroke-linejoin:round;}</style>\n </defs>\n <g id=\"figure_1\">\n  <g id=\"patch_1\">\n   <path d=\"M 0 248.518125 \nL 251.565 248.518125 \nL 251.565 0 \nL 0 0 \nz\n\" style=\"fill:none;\"/>\n  </g>\n  <g id=\"axes_1\">\n   <g id=\"patch_2\">\n    <path d=\"M 26.925 224.64 \nL 244.365 224.64 \nL 244.365 7.2 \nL 26.925 7.2 \nz\n\" style=\"fill:#ffffff;\"/>\n   </g>\n   <g clip-path=\"url(#p4f74fe5d01)\">\n    <image height=\"218\" id=\"imaged274530095\" transform=\"scale(1 -1)translate(0 -218)\" width=\"218\" x=\"26.925\" xlink:href=\"data:image/png;base64,\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\" y=\"-6.64\"/>\n   </g>\n   <g id=\"matplotlib.axis_1\">\n    <g id=\"xtick_1\">\n     <g id=\"line2d_1\">\n      <defs>\n       <path d=\"M 0 0 \nL 0 3.5 \n\" id=\"mc8e8b23664\" style=\"stroke:#000000;stroke-width:0.8;\"/>\n      </defs>\n      <g>\n       <use style=\"stroke:#000000;stroke-width:0.8;\" x=\"30.807857\" xlink:href=\"#mc8e8b23664\" y=\"224.64\"/>\n      </g>\n     </g>\n     <g id=\"text_1\">\n      <!-- 0 -->\n      <g transform=\"translate(27.626607 239.238437)scale(0.1 -0.1)\">\n       <defs>\n        <path d=\"M 31.78125 66.40625 \nQ 24.171875 66.40625 20.328125 58.90625 \nQ 16.5 51.421875 16.5 36.375 \nQ 16.5 21.390625 20.328125 13.890625 \nQ 24.171875 6.390625 31.78125 6.390625 \nQ 39.453125 6.390625 43.28125 13.890625 \nQ 47.125 21.390625 47.125 36.375 \nQ 47.125 51.421875 43.28125 58.90625 \nQ 39.453125 66.40625 31.78125 66.40625 \nz\nM 31.78125 74.21875 \nQ 44.046875 74.21875 50.515625 64.515625 \nQ 56.984375 54.828125 56.984375 36.375 \nQ 56.984375 17.96875 50.515625 8.265625 \nQ 44.046875 -1.421875 31.78125 -1.421875 \nQ 19.53125 -1.421875 13.0625 8.265625 \nQ 6.59375 17.96875 6.59375 36.375 \nQ 6.59375 54.828125 13.0625 64.515625 \nQ 19.53125 74.21875 31.78125 74.21875 \nz\n\" id=\"DejaVuSans-48\"/>\n       </defs>\n       <use xlink:href=\"#DejaVuSans-48\"/>\n      </g>\n     </g>\n    </g>\n    <g id=\"xtick_2\">\n     <g id=\"line2d_2\">\n      <g>\n       <use style=\"stroke:#000000;stroke-width:0.8;\" x=\"69.636429\" xlink:href=\"#mc8e8b23664\" y=\"224.64\"/>\n      </g>\n     </g>\n     <g id=\"text_2\">\n      <!-- 5 -->\n      <g transform=\"translate(66.455179 239.238437)scale(0.1 -0.1)\">\n       <defs>\n        <path d=\"M 10.796875 72.90625 \nL 49.515625 72.90625 \nL 49.515625 64.59375 \nL 19.828125 64.59375 \nL 19.828125 46.734375 \nQ 21.96875 47.46875 24.109375 47.828125 \nQ 26.265625 48.1875 28.421875 48.1875 \nQ 40.625 48.1875 47.75 41.5 \nQ 54.890625 34.8125 54.890625 23.390625 \nQ 54.890625 11.625 47.5625 5.09375 \nQ 40.234375 -1.421875 26.90625 -1.421875 \nQ 22.3125 -1.421875 17.546875 -0.640625 \nQ 12.796875 0.140625 7.71875 1.703125 \nL 7.71875 11.625 \nQ 12.109375 9.234375 16.796875 8.0625 \nQ 21.484375 6.890625 26.703125 6.890625 \nQ 35.15625 6.890625 40.078125 11.328125 \nQ 45.015625 15.765625 45.015625 23.390625 \nQ 45.015625 31 40.078125 35.4375 \nQ 35.15625 39.890625 26.703125 39.890625 \nQ 22.75 39.890625 18.8125 39.015625 \nQ 14.890625 38.140625 10.796875 36.28125 \nz\n\" id=\"DejaVuSans-53\"/>\n       </defs>\n       <use xlink:href=\"#DejaVuSans-53\"/>\n      </g>\n     </g>\n    </g>\n    <g id=\"xtick_3\">\n     <g id=\"line2d_3\">\n      <g>\n       <use style=\"stroke:#000000;stroke-width:0.8;\" x=\"108.465\" xlink:href=\"#mc8e8b23664\" y=\"224.64\"/>\n      </g>\n     </g>\n     <g id=\"text_3\">\n      <!-- 10 -->\n      <g transform=\"translate(102.1025 239.238437)scale(0.1 -0.1)\">\n       <defs>\n        <path d=\"M 12.40625 8.296875 \nL 28.515625 8.296875 \nL 28.515625 63.921875 \nL 10.984375 60.40625 \nL 10.984375 69.390625 \nL 28.421875 72.90625 \nL 38.28125 72.90625 \nL 38.28125 8.296875 \nL 54.390625 8.296875 \nL 54.390625 0 \nL 12.40625 0 \nz\n\" id=\"DejaVuSans-49\"/>\n       </defs>\n       <use xlink:href=\"#DejaVuSans-49\"/>\n       <use x=\"63.623047\" xlink:href=\"#DejaVuSans-48\"/>\n      </g>\n     </g>\n    </g>\n    <g id=\"xtick_4\">\n     <g id=\"line2d_4\">\n      <g>\n       <use style=\"stroke:#000000;stroke-width:0.8;\" x=\"147.293571\" xlink:href=\"#mc8e8b23664\" y=\"224.64\"/>\n      </g>\n     </g>\n     <g id=\"text_4\">\n      <!-- 15 -->\n      <g transform=\"translate(140.931071 239.238437)scale(0.1 -0.1)\">\n       <use xlink:href=\"#DejaVuSans-49\"/>\n       <use x=\"63.623047\" xlink:href=\"#DejaVuSans-53\"/>\n      </g>\n     </g>\n    </g>\n    <g id=\"xtick_5\">\n     <g id=\"line2d_5\">\n      <g>\n       <use style=\"stroke:#000000;stroke-width:0.8;\" x=\"186.122143\" xlink:href=\"#mc8e8b23664\" y=\"224.64\"/>\n      </g>\n     </g>\n     <g id=\"text_5\">\n      <!-- 20 -->\n      <g transform=\"translate(179.759643 239.238437)scale(0.1 -0.1)\">\n       <defs>\n        <path d=\"M 19.1875 8.296875 \nL 53.609375 8.296875 \nL 53.609375 0 \nL 7.328125 0 \nL 7.328125 8.296875 \nQ 12.9375 14.109375 22.625 23.890625 \nQ 32.328125 33.6875 34.8125 36.53125 \nQ 39.546875 41.84375 41.421875 45.53125 \nQ 43.3125 49.21875 43.3125 52.78125 \nQ 43.3125 58.59375 39.234375 62.25 \nQ 35.15625 65.921875 28.609375 65.921875 \nQ 23.96875 65.921875 18.8125 64.3125 \nQ 13.671875 62.703125 7.8125 59.421875 \nL 7.8125 69.390625 \nQ 13.765625 71.78125 18.9375 73 \nQ 24.125 74.21875 28.421875 74.21875 \nQ 39.75 74.21875 46.484375 68.546875 \nQ 53.21875 62.890625 53.21875 53.421875 \nQ 53.21875 48.921875 51.53125 44.890625 \nQ 49.859375 40.875 45.40625 35.40625 \nQ 44.1875 33.984375 37.640625 27.21875 \nQ 31.109375 20.453125 19.1875 8.296875 \nz\n\" id=\"DejaVuSans-50\"/>\n       </defs>\n       <use xlink:href=\"#DejaVuSans-50\"/>\n       <use x=\"63.623047\" xlink:href=\"#DejaVuSans-48\"/>\n      </g>\n     </g>\n    </g>\n    <g id=\"xtick_6\">\n     <g id=\"line2d_6\">\n      <g>\n       <use style=\"stroke:#000000;stroke-width:0.8;\" x=\"224.950714\" xlink:href=\"#mc8e8b23664\" y=\"224.64\"/>\n      </g>\n     </g>\n     <g id=\"text_6\">\n      <!-- 25 -->\n      <g transform=\"translate(218.588214 239.238437)scale(0.1 -0.1)\">\n       <use xlink:href=\"#DejaVuSans-50\"/>\n       <use x=\"63.623047\" xlink:href=\"#DejaVuSans-53\"/>\n      </g>\n     </g>\n    </g>\n   </g>\n   <g id=\"matplotlib.axis_2\">\n    <g id=\"ytick_1\">\n     <g id=\"line2d_7\">\n      <defs>\n       <path d=\"M 0 0 \nL -3.5 0 \n\" id=\"mba6ce5a210\" style=\"stroke:#000000;stroke-width:0.8;\"/>\n      </defs>\n      <g>\n       <use style=\"stroke:#000000;stroke-width:0.8;\" x=\"26.925\" xlink:href=\"#mba6ce5a210\" y=\"11.082857\"/>\n      </g>\n     </g>\n     <g id=\"text_7\">\n      <!-- 0 -->\n      <g transform=\"translate(13.5625 14.882076)scale(0.1 -0.1)\">\n       <use xlink:href=\"#DejaVuSans-48\"/>\n      </g>\n     </g>\n    </g>\n    <g id=\"ytick_2\">\n     <g id=\"line2d_8\">\n      <g>\n       <use style=\"stroke:#000000;stroke-width:0.8;\" x=\"26.925\" xlink:href=\"#mba6ce5a210\" y=\"49.911429\"/>\n      </g>\n     </g>\n     <g id=\"text_8\">\n      <!-- 5 -->\n      <g transform=\"translate(13.5625 53.710647)scale(0.1 -0.1)\">\n       <use xlink:href=\"#DejaVuSans-53\"/>\n      </g>\n     </g>\n    </g>\n    <g id=\"ytick_3\">\n     <g id=\"line2d_9\">\n      <g>\n       <use style=\"stroke:#000000;stroke-width:0.8;\" x=\"26.925\" xlink:href=\"#mba6ce5a210\" y=\"88.74\"/>\n      </g>\n     </g>\n     <g id=\"text_9\">\n      <!-- 10 -->\n      <g transform=\"translate(7.2 92.539219)scale(0.1 -0.1)\">\n       <use xlink:href=\"#DejaVuSans-49\"/>\n       <use x=\"63.623047\" xlink:href=\"#DejaVuSans-48\"/>\n      </g>\n     </g>\n    </g>\n    <g id=\"ytick_4\">\n     <g id=\"line2d_10\">\n      <g>\n       <use style=\"stroke:#000000;stroke-width:0.8;\" x=\"26.925\" xlink:href=\"#mba6ce5a210\" y=\"127.568571\"/>\n      </g>\n     </g>\n     <g id=\"text_10\">\n      <!-- 15 -->\n      <g transform=\"translate(7.2 131.36779)scale(0.1 -0.1)\">\n       <use xlink:href=\"#DejaVuSans-49\"/>\n       <use x=\"63.623047\" xlink:href=\"#DejaVuSans-53\"/>\n      </g>\n     </g>\n    </g>\n    <g id=\"ytick_5\">\n     <g id=\"line2d_11\">\n      <g>\n       <use style=\"stroke:#000000;stroke-width:0.8;\" x=\"26.925\" xlink:href=\"#mba6ce5a210\" y=\"166.397143\"/>\n      </g>\n     </g>\n     <g id=\"text_11\">\n      <!-- 20 -->\n      <g transform=\"translate(7.2 170.196362)scale(0.1 -0.1)\">\n       <use xlink:href=\"#DejaVuSans-50\"/>\n       <use x=\"63.623047\" xlink:href=\"#DejaVuSans-48\"/>\n      </g>\n     </g>\n    </g>\n    <g id=\"ytick_6\">\n     <g id=\"line2d_12\">\n      <g>\n       <use style=\"stroke:#000000;stroke-width:0.8;\" x=\"26.925\" xlink:href=\"#mba6ce5a210\" y=\"205.225714\"/>\n      </g>\n     </g>\n     <g id=\"text_12\">\n      <!-- 25 -->\n      <g transform=\"translate(7.2 209.024933)scale(0.1 -0.1)\">\n       <use xlink:href=\"#DejaVuSans-50\"/>\n       <use x=\"63.623047\" xlink:href=\"#DejaVuSans-53\"/>\n      </g>\n     </g>\n    </g>\n   </g>\n   <g id=\"patch_3\">\n    <path d=\"M 26.925 224.64 \nL 26.925 7.2 \n\" style=\"fill:none;stroke:#000000;stroke-linecap:square;stroke-linejoin:miter;stroke-width:0.8;\"/>\n   </g>\n   <g id=\"patch_4\">\n    <path d=\"M 244.365 224.64 \nL 244.365 7.2 \n\" style=\"fill:none;stroke:#000000;stroke-linecap:square;stroke-linejoin:miter;stroke-width:0.8;\"/>\n   </g>\n   <g id=\"patch_5\">\n    <path d=\"M 26.925 224.64 \nL 244.365 224.64 \n\" style=\"fill:none;stroke:#000000;stroke-linecap:square;stroke-linejoin:miter;stroke-width:0.8;\"/>\n   </g>\n   <g id=\"patch_6\">\n    <path d=\"M 26.925 7.2 \nL 244.365 7.2 \n\" style=\"fill:none;stroke:#000000;stroke-linecap:square;stroke-linejoin:miter;stroke-width:0.8;\"/>\n   </g>\n  </g>\n </g>\n <defs>\n  <clipPath id=\"p4f74fe5d01\">\n   <rect height=\"217.44\" width=\"217.44\" x=\"26.925\" y=\"7.2\"/>\n  </clipPath>\n </defs>\n</svg>\n",
      "image/png": "[encoded data removed]"
     },
     "metadata": {
      "needs_background": "light"
     }
    }
   ],
   "source": [
    "\n",
    "path = '/Users/prashunjaveri/Desktop/dress_1.jpeg'\n",
    "class_names = ['T-shirt/top', 'Trouser', 'Pullover', 'Dress', 'Coat', 'Sandal', 'Shirt', 'Sneaker', 'Bag', 'Ankle boot']\n",
    "correct_predictions = pd.DataFrame({ 'predictions': [3]  })\n",
    "model = load_model('./models/multi_class_image_classifier')\n",
    "image_shape = (28,28,1)\n",
    "predict_single(path=path,\n",
    "               model=model,\n",
    "               shape=(28,28,1), \n",
    "               classes=class_names, \n",
    "               show_image=True,\n",
    "               grey_scale=True )"
   ]
  },
  {
   "cell_type": "code",
   "execution_count": 15,
   "metadata": {},
   "outputs": [
    {
     "output_type": "execute_result",
     "data": {
      "text/plain": [
       "{'errors': [{'file': 'dress_1.jpeg',\n",
       "   'predictions': 1,\n",
       "   'predicted_labels': 'Trouser',\n",
       "   'expected': 3,\n",
       "   'expected_labels': 'Dress'}],\n",
       " 'percentage_error': 100.0}"
      ]
     },
     "metadata": {},
     "execution_count": 15
    }
   ],
   "source": [
    "path = '/Users/prashunjaveri/Desktop/fashion_mnist'\n",
    "batch_predict(path=path,\n",
    "            model=model,\n",
    "            shape=image_shape,\n",
    "            classes=class_names,\n",
    "            correct_predictions=correct_predictions,\n",
    "            show_all = False ,\n",
    "            grey_scale=True,\n",
    "            show_correct = False)"
   ]
  }
 ],
 "metadata": {
  "kernelspec": {
   "display_name": "Python 3",
   "language": "python",
   "name": "python3"
  },
  "language_info": {
   "codemirror_mode": {
    "name": "ipython",
    "version": 3
   },
   "file_extension": ".py",
   "mimetype": "text/x-python",
   "name": "python",
   "nbconvert_exporter": "python",
   "pygments_lexer": "ipython3",
   "version": "3.8.5"
  }
 },
 "nbformat": 4,
 "nbformat_minor": 4
}