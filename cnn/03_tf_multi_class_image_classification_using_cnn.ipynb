{
 "cells": [
  {
   "cell_type": "code",
   "execution_count": 11,
   "metadata": {},
   "outputs": [
    {
     "output_type": "stream",
     "name": "stdout",
     "text": [
      "2.4.0\n"
     ]
    }
   ],
   "source": [
    "# import packages\n",
    "import tensorflow as tf\n",
    "import numpy as np\n",
    "from tensorflow import keras\n",
    "import matplotlib.pyplot as plt\n",
    "import cv2 \n",
    "\n",
    "\n",
    "print(tf.__version__)"
   ]
  },
  {
   "cell_type": "code",
   "execution_count": 12,
   "metadata": {},
   "outputs": [],
   "source": [
    "fashion_mnist = tf.keras.datasets.fashion_mnist\n",
    "(x_train, y_train),(x_test, y_test) = fashion_mnist.load_data()"
   ]
  },
  {
   "cell_type": "code",
   "execution_count": 13,
   "metadata": {},
   "outputs": [
    {
     "output_type": "display_data",
     "data": {
      "text/plain": "<Figure size 432x288 with 2 Axes>",
      "image/svg+xml": "<?xml version=\"1.0\" encoding=\"utf-8\" standalone=\"no\"?>\n<!DOCTYPE svg PUBLIC \"-//W3C//DTD SVG 1.1//EN\"\n  \"http://www.w3.org/Graphics/SVG/1.1/DTD/svg11.dtd\">\n<!-- Created with matplotlib (https://matplotlib.org/) -->\n<svg height=\"248.518125pt\" version=\"1.1\" viewBox=\"0 0 305.2645 248.518125\" width=\"305.2645pt\" xmlns=\"http://www.w3.org/2000/svg\" xmlns:xlink=\"http://www.w3.org/1999/xlink\">\n <metadata>\n  <rdf:RDF xmlns:cc=\"http://creativecommons.org/ns#\" xmlns:dc=\"http://purl.org/dc/elements/1.1/\" xmlns:rdf=\"http://www.w3.org/1999/02/22-rdf-syntax-ns#\">\n   <cc:Work>\n    <dc:type rdf:resource=\"http://purl.org/dc/dcmitype/StillImage\"/>\n    <dc:date>2021-05-07T08:10:52.650853</dc:date>\n    <dc:format>image/svg+xml</dc:format>\n    <dc:creator>\n     <cc:Agent>\n      <dc:title>Matplotlib v3.3.2, https://matplotlib.org/</dc:title>\n     </cc:Agent>\n    </dc:creator>\n   </cc:Work>\n  </rdf:RDF>\n </metadata>\n <defs>\n  <style type=\"text/css\">*{stroke-linecap:butt;stroke-linejoin:round;}</style>\n </defs>\n <g id=\"figure_1\">\n  <g id=\"patch_1\">\n   <path d=\"M 0 248.518125 \nL 305.2645 248.518125 \nL 305.2645 0 \nL 0 0 \nz\n\" style=\"fill:none;\"/>\n  </g>\n  <g id=\"axes_1\">\n   <g id=\"patch_2\">\n    <path d=\"M 26.925 224.64 \nL 244.365 224.64 \nL 244.365 7.2 \nL 26.925 7.2 \nz\n\" style=\"fill:#ffffff;\"/>\n   </g>\n   <g clip-path=\"url(#p8ec80705fd)\">\n    <image height=\"218\" id=\"imaged956aa8ed9\" transform=\"scale(1 -1)translate(0 -218)\" width=\"218\" x=\"26.925\" xlink:href=\"data:image/png;base64,\niVBORw0KGgoAAAANSUhEUgAAANoAAADaCAYAAADAHVzbAAALNklEQVR4nO3d249VZx3G8XettU8zw5xgGEBKi7bFmmI1mkJTU1oN3hC1bUJSD9E7jTTxol5oYmJI44UXTfW6xlNDjPZCbzBFjVaaBiEiPVqxTTgYCoWBKQwz7NmH2Xv5F7zPz7Bcv72h38/tM++emT37mZWsX953JTuT3XkYVkmi8/z6f/S3n7lXf+t6X7/AQlXGedVYr6Q6zpaML8iN9y2Jv2/Jil4rloYQQki7Ou9Mxl9g7T/0957ad1i/+BAz/mIA/h8oGuCAogEOKBrggKIBDiga4ICiAQ4qg/4BpAJzMsv2rSdk/sjMKzKf762S+b0jJ6NZLegZWzXR+WTak3kRTWMG1zAGafuXPiLzjdXL0ez7t35Brp3aJ+MQ0kzn/fLeNwtXNMABRQMcUDTAAUUDHFA0wAFFAxxQNMDBcM/RSnRmcUrnk6tlfrk7JvPTrW3RrJvrec+qrC3zhrHpy3r9Xh7//9ru64/EaNaR+XxHzxcv1cajWfPUhFxrGuCczMIVDXBA0QAHFA1wQNEABxQNcEDRAAfDfXu/xOPmPjlz5rrXhmDf5k5D/Gezbr9bt+9HU/29e0G/b31xe7/Zr8m1deNnmw/69n4mtgAlPePvbSnx81IUVzTAAUUDHFA0wAFFAxxQNMABRQMcUDTAwXDP0Qaoa2wXUXMy87WNOVqW6+PmrDmZpcj6zPi9+wVeOxneXS6FcUUDHFA0wAFFAxxQNMABRQMcUDTAAUUDHAz3HK3E/UMTlZbMi8yDQtBztqoxMFLHwYUQQiPRe8IW+w2ZF5Eaj5TqGY99UvvZjJe2JcZ1I+exTcBNjaIBDiga4ICiAQ4oGuCAogEOKBrgYLjnaAM8p6/Vr8pcnU8YQgj1ZOW611r71Sxt42dXsyxrn506EzKEEFb6xpmV4n1hPxqAQiga4ICiAQ4oGuCAogEOKBrggKIBDoZ7jlYia1bVN/ZVWc9HU7OyfsE5WTfXfzZrP5tizfisMyHTRM/hRtN2NKs0Cz4fbYhxRQMcUDTAAUUDHFA0wAFFAxxQNMDB+/b2vnXkW9u4hW4pcovdYo4mChyVZx0nZ22TsdaPqdv7+gRAU5Lq39t4GlapuKIBDiga4ICiAQ4oGuCAogEOKBrggKIBDt63c7SZ6qLMTy6vNdYvyVwdV9cQx72FYM/grKPwrBlhJo6UW+zpRz5ZM7p6Gj9OzlK7Ut7xgYPGFQ1wQNEABxQNcEDRAAcUDXBA0QAHFA1wMNxztMT4P5Bf/3N+GomeZVkWVkZkruZJ1pzMmlUV2W8Wgj4yzprBzXfHZD6S6fdV7VfLugXnaNbnZYCG9ycDbiIUDXBA0QAHFA1wQNEABxQNcEDRAAfDPUcr0cHLH5b5TO2azNt9/dapxzpZczBrzmbNuspknSk5nTVlrs6FHOCvVTquaIADigY4oGiAA4oGOKBogAOKBjgY6tv7hR7Dk+rb0DXjWDTr8UNpord0qNvgqTjuLYQQMuN7W7fYrddXt9jN1zZ+b2v00BGvX/hJV8bnZZC4ogEOKBrggKIBDiga4ICiAQ4oGuCAogEOhnqOlveuf99ENrFK5hOVlsyteZHaBhNCscc2WXMwa9YVCszhrNeerCzLvNmvybwv/rfn2fDOwYriigY4oGiAA4oGOKBogAOKBjigaIADigY4GOwcLdFzk7Rel3m/FZ+Fdbd+UK69Y/SgzI9f2yDzzY1LMn+3MxXNzP1iBR/LZLGOs1OmK/oYvjOt1foFxJ+0M1Hw97bmrsbnLeQFHxslcEUDHFA0wAFFAxxQNMABRQMcUDTAAUUDHAx2jmbMLdSczGTMTD5Um5P5a4ubZG6dX5gFvSdMKTLnGrS22Idnrp0s9r3zFX1W5yDduH9R4AZC0QAHFA1wQNEABxQNcEDRAAcUDXAw1Oc6Vtavk/nyPfFZ1/lv6BlcK9fzHmvP2MLKqMzfFUOhMeNMyLpx7mOZrPMs5zoTMu8aM8CLK+PRrL7tPbn2RsYVDXBA0QAHFA1wQNEABxQNcEDRAAfJzmR3aWdsvfO9+2V+9663ZP7Y7FGZ3ym2umzK9DaVXyxslfnp1hqZP7XhbzLv5vFtNN1c/2wtI28k+v/jaGqNLuLr27keLVQT/Vink129/ufvfSqabaxflmutrU3nutMyP3pVH0F46I/3RLPb9uq/t4UrGuCAogEOKBrggKIBDiga4ICiAQ4oGuCg1G0ylW16LvLdjQdkfmT5dpn/pzMTzdZVF+TaVZneRlNP9dFlu772TZkvr43PspZX6/9v1olt1Wt69Gntsqm04ut7NX1MX3vKeNRWV/9sD+95MZot9RpyrbW1qZvrj/ODU/+W+e2PXoxmL+4dkWstXNEABxQNcEDRAAcUDXBA0QAHFA1wQNEAB6XO0dY9VZf5+Wf10WUWdSzbojGTWW/M2c5mem9T5S/HZD5+X3xv0+RxPehqboofyRZCCGNHT8s8MR5ZlbfFcXepXntl5xaZjz93ROZvfTV+hOBDq/X+RGu/mXUEYC/o3+3Z49uj2ebwulxr4YoGOKBogAOKBjigaIADigY4oGiAA4oGOCh1jpYcelXm2+vzMr+4oudsV3rxuUkzr8m1wdizNVu9qr8g6HMfn//tL6PZ2V5Trn3wwBMyP/WTP8l8xxuPyvwPd++PZqOpft/2Xrwg8yPP6T1jO6bfjmZZ0OdZVpP4WZn/S762sijzxuFVMi+CKxrggKIBDiga4ICiAQ4oGuCAogEOKBrgoNQ5muWHcw/IfPv4CZlf6E5Gs4UVfQ7feF2f63hyea3MgzHzeeDbj0ezpVv0/7ctT+tncW09FX/tEEKYeUMPCT87+q1olmd6z9boebGXLYSQhZf1+rQdzU61Z+Xamaqeg1WNszgfHjsr830vxfcoFn2IIFc0wAFFAxxQNMABRQMcUDTAAUUDHAz09v7vD8SP9wohhM988V8yb4nnG6WJviF7aUUf6TaS6Vvk576jRxNj5+K3/9f9fVmuvfrl+2S+4bBenxtHxtWuxH+3Xj2TaztT+iMz9+T9Mm+kv4pmzb7eonOpq/9mdzT0Fp4/L8cf8xVCCPmxN2VeBFc0wAFFAxxQNMABRQMcUDTAAUUDHFA0wMFA52i3vKC3XMzv1sd/XRaP6RlN9Ws3e3pmM1vTx8395vGnZf6BLD7Hqyb6/9tiX2/3GE31rKud6y086ruPG8fNNft6vnhyRX+kDizGH2dlHTfX7uvXrib6fXvir1+S+ZZwVOZFcEUDHFA0wAFFAxxQNMABRQMcUDTAAUUDHAx0jlZ54ZjMn5+Pz1xCCGHXmtej2WvXbpVru7meRfU6UzJ/ZnmHzK39cIr1+KFrvbrMK8b6It+7TNZ71s/1PrtGomd8W36qjxgsE1c0wAFFAxxQNMABRQMcUDTAAUUDHFA0wEGyM9ld9Ik0pclm1sh8+dfx/Wp7bjso19aMedHpjj4DcK4zIfMlMetaMWZ4I8ZeujtH9PmF73RWy1zNEK1ZVVEz1aVotq4af2xSCCFMZU2Z733z8zJf/8hxmZeJKxrggKIBDiga4ICiAQ4oGuCAogEOyr29nxi3ivPyvnXvoU/I/MRjeofQk5/+ncxbuT6WbXP1YjSbzeK3uEMI4eN1vQ2mTD9bWC9za3vR1yfPyPxQO/6/fc8rX5FrN/4o/piuEEJIDr0q80HiigY4oGiAA4oGOKBogAOKBjigaIADigY4GOptMoOcw5m2fVTG0z8+G83+uf8uuXb2Zb1NJmvrLT5JRz/+6NLH4o+7yj43L9fOn56W+V0/OCXz3oU5md+suKIBDiga4ICiAQ4oGuCAogEOKBrggKIBDv4Ln9uMt6qS2GUAAAAASUVORK5CYII=\" y=\"-6.64\"/>\n   </g>\n   <g id=\"matplotlib.axis_1\">\n    <g id=\"xtick_1\">\n     <g id=\"line2d_1\">\n      <defs>\n       <path d=\"M 0 0 \nL 0 3.5 \n\" id=\"m6fcfcb7e4c\" style=\"stroke:#000000;stroke-width:0.8;\"/>\n      </defs>\n      <g>\n       <use style=\"stroke:#000000;stroke-width:0.8;\" x=\"30.807857\" xlink:href=\"#m6fcfcb7e4c\" y=\"224.64\"/>\n      </g>\n     </g>\n     <g id=\"text_1\">\n      <!-- 0 -->\n      <g transform=\"translate(27.626607 239.238437)scale(0.1 -0.1)\">\n       <defs>\n        <path d=\"M 31.78125 66.40625 \nQ 24.171875 66.40625 20.328125 58.90625 \nQ 16.5 51.421875 16.5 36.375 \nQ 16.5 21.390625 20.328125 13.890625 \nQ 24.171875 6.390625 31.78125 6.390625 \nQ 39.453125 6.390625 43.28125 13.890625 \nQ 47.125 21.390625 47.125 36.375 \nQ 47.125 51.421875 43.28125 58.90625 \nQ 39.453125 66.40625 31.78125 66.40625 \nz\nM 31.78125 74.21875 \nQ 44.046875 74.21875 50.515625 64.515625 \nQ 56.984375 54.828125 56.984375 36.375 \nQ 56.984375 17.96875 50.515625 8.265625 \nQ 44.046875 -1.421875 31.78125 -1.421875 \nQ 19.53125 -1.421875 13.0625 8.265625 \nQ 6.59375 17.96875 6.59375 36.375 \nQ 6.59375 54.828125 13.0625 64.515625 \nQ 19.53125 74.21875 31.78125 74.21875 \nz\n\" id=\"DejaVuSans-48\"/>\n       </defs>\n       <use xlink:href=\"#DejaVuSans-48\"/>\n      </g>\n     </g>\n    </g>\n    <g id=\"xtick_2\">\n     <g id=\"line2d_2\">\n      <g>\n       <use style=\"stroke:#000000;stroke-width:0.8;\" x=\"69.636429\" xlink:href=\"#m6fcfcb7e4c\" y=\"224.64\"/>\n      </g>\n     </g>\n     <g id=\"text_2\">\n      <!-- 5 -->\n      <g transform=\"translate(66.455179 239.238437)scale(0.1 -0.1)\">\n       <defs>\n        <path d=\"M 10.796875 72.90625 \nL 49.515625 72.90625 \nL 49.515625 64.59375 \nL 19.828125 64.59375 \nL 19.828125 46.734375 \nQ 21.96875 47.46875 24.109375 47.828125 \nQ 26.265625 48.1875 28.421875 48.1875 \nQ 40.625 48.1875 47.75 41.5 \nQ 54.890625 34.8125 54.890625 23.390625 \nQ 54.890625 11.625 47.5625 5.09375 \nQ 40.234375 -1.421875 26.90625 -1.421875 \nQ 22.3125 -1.421875 17.546875 -0.640625 \nQ 12.796875 0.140625 7.71875 1.703125 \nL 7.71875 11.625 \nQ 12.109375 9.234375 16.796875 8.0625 \nQ 21.484375 6.890625 26.703125 6.890625 \nQ 35.15625 6.890625 40.078125 11.328125 \nQ 45.015625 15.765625 45.015625 23.390625 \nQ 45.015625 31 40.078125 35.4375 \nQ 35.15625 39.890625 26.703125 39.890625 \nQ 22.75 39.890625 18.8125 39.015625 \nQ 14.890625 38.140625 10.796875 36.28125 \nz\n\" id=\"DejaVuSans-53\"/>\n       </defs>\n       <use xlink:href=\"#DejaVuSans-53\"/>\n      </g>\n     </g>\n    </g>\n    <g id=\"xtick_3\">\n     <g id=\"line2d_3\">\n      <g>\n       <use style=\"stroke:#000000;stroke-width:0.8;\" x=\"108.465\" xlink:href=\"#m6fcfcb7e4c\" y=\"224.64\"/>\n      </g>\n     </g>\n     <g id=\"text_3\">\n      <!-- 10 -->\n      <g transform=\"translate(102.1025 239.238437)scale(0.1 -0.1)\">\n       <defs>\n        <path d=\"M 12.40625 8.296875 \nL 28.515625 8.296875 \nL 28.515625 63.921875 \nL 10.984375 60.40625 \nL 10.984375 69.390625 \nL 28.421875 72.90625 \nL 38.28125 72.90625 \nL 38.28125 8.296875 \nL 54.390625 8.296875 \nL 54.390625 0 \nL 12.40625 0 \nz\n\" id=\"DejaVuSans-49\"/>\n       </defs>\n       <use xlink:href=\"#DejaVuSans-49\"/>\n       <use x=\"63.623047\" xlink:href=\"#DejaVuSans-48\"/>\n      </g>\n     </g>\n    </g>\n    <g id=\"xtick_4\">\n     <g id=\"line2d_4\">\n      <g>\n       <use style=\"stroke:#000000;stroke-width:0.8;\" x=\"147.293571\" xlink:href=\"#m6fcfcb7e4c\" y=\"224.64\"/>\n      </g>\n     </g>\n     <g id=\"text_4\">\n      <!-- 15 -->\n      <g transform=\"translate(140.931071 239.238437)scale(0.1 -0.1)\">\n       <use xlink:href=\"#DejaVuSans-49\"/>\n       <use x=\"63.623047\" xlink:href=\"#DejaVuSans-53\"/>\n      </g>\n     </g>\n    </g>\n    <g id=\"xtick_5\">\n     <g id=\"line2d_5\">\n      <g>\n       <use style=\"stroke:#000000;stroke-width:0.8;\" x=\"186.122143\" xlink:href=\"#m6fcfcb7e4c\" y=\"224.64\"/>\n      </g>\n     </g>\n     <g id=\"text_5\">\n      <!-- 20 -->\n      <g transform=\"translate(179.759643 239.238437)scale(0.1 -0.1)\">\n       <defs>\n        <path d=\"M 19.1875 8.296875 \nL 53.609375 8.296875 \nL 53.609375 0 \nL 7.328125 0 \nL 7.328125 8.296875 \nQ 12.9375 14.109375 22.625 23.890625 \nQ 32.328125 33.6875 34.8125 36.53125 \nQ 39.546875 41.84375 41.421875 45.53125 \nQ 43.3125 49.21875 43.3125 52.78125 \nQ 43.3125 58.59375 39.234375 62.25 \nQ 35.15625 65.921875 28.609375 65.921875 \nQ 23.96875 65.921875 18.8125 64.3125 \nQ 13.671875 62.703125 7.8125 59.421875 \nL 7.8125 69.390625 \nQ 13.765625 71.78125 18.9375 73 \nQ 24.125 74.21875 28.421875 74.21875 \nQ 39.75 74.21875 46.484375 68.546875 \nQ 53.21875 62.890625 53.21875 53.421875 \nQ 53.21875 48.921875 51.53125 44.890625 \nQ 49.859375 40.875 45.40625 35.40625 \nQ 44.1875 33.984375 37.640625 27.21875 \nQ 31.109375 20.453125 19.1875 8.296875 \nz\n\" id=\"DejaVuSans-50\"/>\n       </defs>\n       <use xlink:href=\"#DejaVuSans-50\"/>\n       <use x=\"63.623047\" xlink:href=\"#DejaVuSans-48\"/>\n      </g>\n     </g>\n    </g>\n    <g id=\"xtick_6\">\n     <g id=\"line2d_6\">\n      <g>\n       <use style=\"stroke:#000000;stroke-width:0.8;\" x=\"224.950714\" xlink:href=\"#m6fcfcb7e4c\" y=\"224.64\"/>\n      </g>\n     </g>\n     <g id=\"text_6\">\n      <!-- 25 -->\n      <g transform=\"translate(218.588214 239.238437)scale(0.1 -0.1)\">\n       <use xlink:href=\"#DejaVuSans-50\"/>\n       <use x=\"63.623047\" xlink:href=\"#DejaVuSans-53\"/>\n      </g>\n     </g>\n    </g>\n   </g>\n   <g id=\"matplotlib.axis_2\">\n    <g id=\"ytick_1\">\n     <g id=\"line2d_7\">\n      <defs>\n       <path d=\"M 0 0 \nL -3.5 0 \n\" id=\"mce4446d188\" style=\"stroke:#000000;stroke-width:0.8;\"/>\n      </defs>\n      <g>\n       <use style=\"stroke:#000000;stroke-width:0.8;\" x=\"26.925\" xlink:href=\"#mce4446d188\" y=\"11.082857\"/>\n      </g>\n     </g>\n     <g id=\"text_7\">\n      <!-- 0 -->\n      <g transform=\"translate(13.5625 14.882076)scale(0.1 -0.1)\">\n       <use xlink:href=\"#DejaVuSans-48\"/>\n      </g>\n     </g>\n    </g>\n    <g id=\"ytick_2\">\n     <g id=\"line2d_8\">\n      <g>\n       <use style=\"stroke:#000000;stroke-width:0.8;\" x=\"26.925\" xlink:href=\"#mce4446d188\" y=\"49.911429\"/>\n      </g>\n     </g>\n     <g id=\"text_8\">\n      <!-- 5 -->\n      <g transform=\"translate(13.5625 53.710647)scale(0.1 -0.1)\">\n       <use xlink:href=\"#DejaVuSans-53\"/>\n      </g>\n     </g>\n    </g>\n    <g id=\"ytick_3\">\n     <g id=\"line2d_9\">\n      <g>\n       <use style=\"stroke:#000000;stroke-width:0.8;\" x=\"26.925\" xlink:href=\"#mce4446d188\" y=\"88.74\"/>\n      </g>\n     </g>\n     <g id=\"text_9\">\n      <!-- 10 -->\n      <g transform=\"translate(7.2 92.539219)scale(0.1 -0.1)\">\n       <use xlink:href=\"#DejaVuSans-49\"/>\n       <use x=\"63.623047\" xlink:href=\"#DejaVuSans-48\"/>\n      </g>\n     </g>\n    </g>\n    <g id=\"ytick_4\">\n     <g id=\"line2d_10\">\n      <g>\n       <use style=\"stroke:#000000;stroke-width:0.8;\" x=\"26.925\" xlink:href=\"#mce4446d188\" y=\"127.568571\"/>\n      </g>\n     </g>\n     <g id=\"text_10\">\n      <!-- 15 -->\n      <g transform=\"translate(7.2 131.36779)scale(0.1 -0.1)\">\n       <use xlink:href=\"#DejaVuSans-49\"/>\n       <use x=\"63.623047\" xlink:href=\"#DejaVuSans-53\"/>\n      </g>\n     </g>\n    </g>\n    <g id=\"ytick_5\">\n     <g id=\"line2d_11\">\n      <g>\n       <use style=\"stroke:#000000;stroke-width:0.8;\" x=\"26.925\" xlink:href=\"#mce4446d188\" y=\"166.397143\"/>\n      </g>\n     </g>\n     <g id=\"text_11\">\n      <!-- 20 -->\n      <g transform=\"translate(7.2 170.196362)scale(0.1 -0.1)\">\n       <use xlink:href=\"#DejaVuSans-50\"/>\n       <use x=\"63.623047\" xlink:href=\"#DejaVuSans-48\"/>\n      </g>\n     </g>\n    </g>\n    <g id=\"ytick_6\">\n     <g id=\"line2d_12\">\n      <g>\n       <use style=\"stroke:#000000;stroke-width:0.8;\" x=\"26.925\" xlink:href=\"#mce4446d188\" y=\"205.225714\"/>\n      </g>\n     </g>\n     <g id=\"text_12\">\n      <!-- 25 -->\n      <g transform=\"translate(7.2 209.024933)scale(0.1 -0.1)\">\n       <use xlink:href=\"#DejaVuSans-50\"/>\n       <use x=\"63.623047\" xlink:href=\"#DejaVuSans-53\"/>\n      </g>\n     </g>\n    </g>\n   </g>\n   <g id=\"patch_3\">\n    <path d=\"M 26.925 224.64 \nL 26.925 7.2 \n\" style=\"fill:none;stroke:#000000;stroke-linecap:square;stroke-linejoin:miter;stroke-width:0.8;\"/>\n   </g>\n   <g id=\"patch_4\">\n    <path d=\"M 244.365 224.64 \nL 244.365 7.2 \n\" style=\"fill:none;stroke:#000000;stroke-linecap:square;stroke-linejoin:miter;stroke-width:0.8;\"/>\n   </g>\n   <g id=\"patch_5\">\n    <path d=\"M 26.925 224.64 \nL 244.365 224.64 \n\" style=\"fill:none;stroke:#000000;stroke-linecap:square;stroke-linejoin:miter;stroke-width:0.8;\"/>\n   </g>\n   <g id=\"patch_6\">\n    <path d=\"M 26.925 7.2 \nL 244.365 7.2 \n\" style=\"fill:none;stroke:#000000;stroke-linecap:square;stroke-linejoin:miter;stroke-width:0.8;\"/>\n   </g>\n  </g>\n  <g id=\"axes_2\">\n   <g id=\"patch_7\">\n    <path clip-path=\"url(#p612adcc960)\" d=\"M 261.105 224.64 \nL 261.105 223.790625 \nL 261.105 8.049375 \nL 261.105 7.2 \nL 271.977 7.2 \nL 271.977 8.049375 \nL 271.977 223.790625 \nL 271.977 224.64 \nz\n\" style=\"fill:#ffffff;stroke:#ffffff;stroke-linejoin:miter;stroke-width:0.01;\"/>\n   </g>\n   <image height=\"217\" id=\"image96a13c2ac5\" transform=\"scale(1 -1)translate(0 -217)\" width=\"11\" x=\"261\" xlink:href=\"data:image/png;base64,\niVBORw0KGgoAAAANSUhEUgAAAAsAAADZCAYAAAD2WsoCAAABSElEQVR4nN2awQ0CMQwEYztHZdRA/41AaMHzGMl3vK3V7qxD0HHxzs9Zzc+OjO7s2iuyP8yUq4gNoBwJPCPlpSkHosEa1IaHcBZpaDZEdBaNw2y0Z00aomftWJ2a0WB/1gx4NBsooLdIhxxYjwZUBsNwn4nyHWmIdSMbmrJGw9wNS9nkfEN0M7ZuirJHoz+LL3piA92Dmo3n1/14dDcM6NW9on++x6C7Hw3gmAcEnr1SRM4zaICfSG4pXsARyuA5GaTBbMxAl2JAi4bnOZMMezaWha7yB2x4AUUaYHhrNLyAng1GQ/RslbKZMhgusW6LxhVfSRnSsAIWUb6S0CANlrd1xAasG9kY0SDizGgwG1ZAVMpLDKjthnasrgVowIDWPciWn30VeAHbs1S5L7z2i/zdgJSLKYPhIsNI+Qrwug7zTN45SfCQ6g9eiIFo/nbsswAAAABJRU5ErkJggg==\" y=\"-7\"/>\n   <g id=\"matplotlib.axis_3\"/>\n   <g id=\"matplotlib.axis_4\">\n    <g id=\"ytick_7\">\n     <g id=\"line2d_13\">\n      <defs>\n       <path d=\"M 0 0 \nL 3.5 0 \n\" id=\"m7848b69da4\" style=\"stroke:#000000;stroke-width:0.8;\"/>\n      </defs>\n      <g>\n       <use style=\"stroke:#000000;stroke-width:0.8;\" x=\"271.977\" xlink:href=\"#m7848b69da4\" y=\"224.64\"/>\n      </g>\n     </g>\n     <g id=\"text_13\">\n      <!-- 0 -->\n      <g transform=\"translate(278.977 228.439219)scale(0.1 -0.1)\">\n       <use xlink:href=\"#DejaVuSans-48\"/>\n      </g>\n     </g>\n    </g>\n    <g id=\"ytick_8\">\n     <g id=\"line2d_14\">\n      <g>\n       <use style=\"stroke:#000000;stroke-width:0.8;\" x=\"271.977\" xlink:href=\"#m7848b69da4\" y=\"182.004706\"/>\n      </g>\n     </g>\n     <g id=\"text_14\">\n      <!-- 50 -->\n      <g transform=\"translate(278.977 185.803925)scale(0.1 -0.1)\">\n       <use xlink:href=\"#DejaVuSans-53\"/>\n       <use x=\"63.623047\" xlink:href=\"#DejaVuSans-48\"/>\n      </g>\n     </g>\n    </g>\n    <g id=\"ytick_9\">\n     <g id=\"line2d_15\">\n      <g>\n       <use style=\"stroke:#000000;stroke-width:0.8;\" x=\"271.977\" xlink:href=\"#m7848b69da4\" y=\"139.369412\"/>\n      </g>\n     </g>\n     <g id=\"text_15\">\n      <!-- 100 -->\n      <g transform=\"translate(278.977 143.168631)scale(0.1 -0.1)\">\n       <use xlink:href=\"#DejaVuSans-49\"/>\n       <use x=\"63.623047\" xlink:href=\"#DejaVuSans-48\"/>\n       <use x=\"127.246094\" xlink:href=\"#DejaVuSans-48\"/>\n      </g>\n     </g>\n    </g>\n    <g id=\"ytick_10\">\n     <g id=\"line2d_16\">\n      <g>\n       <use style=\"stroke:#000000;stroke-width:0.8;\" x=\"271.977\" xlink:href=\"#m7848b69da4\" y=\"96.734118\"/>\n      </g>\n     </g>\n     <g id=\"text_16\">\n      <!-- 150 -->\n      <g transform=\"translate(278.977 100.533336)scale(0.1 -0.1)\">\n       <use xlink:href=\"#DejaVuSans-49\"/>\n       <use x=\"63.623047\" xlink:href=\"#DejaVuSans-53\"/>\n       <use x=\"127.246094\" xlink:href=\"#DejaVuSans-48\"/>\n      </g>\n     </g>\n    </g>\n    <g id=\"ytick_11\">\n     <g id=\"line2d_17\">\n      <g>\n       <use style=\"stroke:#000000;stroke-width:0.8;\" x=\"271.977\" xlink:href=\"#m7848b69da4\" y=\"54.098824\"/>\n      </g>\n     </g>\n     <g id=\"text_17\">\n      <!-- 200 -->\n      <g transform=\"translate(278.977 57.898042)scale(0.1 -0.1)\">\n       <use xlink:href=\"#DejaVuSans-50\"/>\n       <use x=\"63.623047\" xlink:href=\"#DejaVuSans-48\"/>\n       <use x=\"127.246094\" xlink:href=\"#DejaVuSans-48\"/>\n      </g>\n     </g>\n    </g>\n    <g id=\"ytick_12\">\n     <g id=\"line2d_18\">\n      <g>\n       <use style=\"stroke:#000000;stroke-width:0.8;\" x=\"271.977\" xlink:href=\"#m7848b69da4\" y=\"11.463529\"/>\n      </g>\n     </g>\n     <g id=\"text_18\">\n      <!-- 250 -->\n      <g transform=\"translate(278.977 15.262748)scale(0.1 -0.1)\">\n       <use xlink:href=\"#DejaVuSans-50\"/>\n       <use x=\"63.623047\" xlink:href=\"#DejaVuSans-53\"/>\n       <use x=\"127.246094\" xlink:href=\"#DejaVuSans-48\"/>\n      </g>\n     </g>\n    </g>\n   </g>\n   <g id=\"patch_8\">\n    <path d=\"M 261.105 224.64 \nL 261.105 223.790625 \nL 261.105 8.049375 \nL 261.105 7.2 \nL 271.977 7.2 \nL 271.977 8.049375 \nL 271.977 223.790625 \nL 271.977 224.64 \nz\n\" style=\"fill:none;stroke:#000000;stroke-linejoin:miter;stroke-width:0.8;\"/>\n   </g>\n  </g>\n </g>\n <defs>\n  <clipPath id=\"p8ec80705fd\">\n   <rect height=\"217.44\" width=\"217.44\" x=\"26.925\" y=\"7.2\"/>\n  </clipPath>\n  <clipPath id=\"p612adcc960\">\n   <rect height=\"217.44\" width=\"10.872\" x=\"261.105\" y=\"7.2\"/>\n  </clipPath>\n </defs>\n</svg>\n",
      "image/png": "[encoded data removed]"
     },
     "metadata": {
      "needs_background": "light"
     }
    }
   ],
   "source": [
    "plt.figure()\n",
    "plt.imshow(x_train[1])\n",
    "plt.colorbar()\n",
    "plt.grid(False)\n",
    "plt.show()"
   ]
  },
  {
   "cell_type": "code",
   "execution_count": 14,
   "metadata": {},
   "outputs": [],
   "source": [
    "# normalizing\n",
    "x_train = x_train / 255.0\n",
    "x_test = x_test / 255.0\n",
    "\n",
    "# reshaping to add 1 \n",
    "x_train  = x_train.reshape(60000, 28, 28, 1)\n",
    "x_test  = x_test.reshape(10000, 28, 28, 1)"
   ]
  },
  {
   "cell_type": "code",
   "execution_count": 15,
   "metadata": {},
   "outputs": [],
   "source": [
    "def train_mnist():\n",
    "    class CustomCallback(tf.keras.callbacks.Callback):\n",
    "        def on_train_end(self, logs=None):\n",
    "            print(\"Reached trainig end returning model \")\n",
    "    \n",
    "    # creat the model \n",
    "    model = tf.keras.models.Sequential([\n",
    "        tf.keras.layers.Conv2D(64,(3,3),strides=(1, 1), padding='valid',input_shape=(28,28,1)),\n",
    "        tf.keras.layers.MaxPool2D(pool_size=(2, 2)),\n",
    "        tf.keras.layers.Flatten(),\n",
    "        tf.keras.layers.Dense(128 , activation = tf.nn.relu ),\n",
    "        tf.keras.layers.Dense(10,  activation = tf.nn.softmax)\n",
    "    ])\n",
    "\n",
    "    # add the loss function and the optimizer for gradient descent \n",
    "    model.compile(optimizer='adam',\n",
    "                  loss='sparse_categorical_crossentropy',\n",
    "                  metrics=['accuracy'])\n",
    "    \n",
    "    # model fitting\n",
    "    history = model.fit(\n",
    "        x_train,\n",
    "        y_train,\n",
    "        epochs=30,\n",
    "        callbacks=[CustomCallback()],\n",
    "    )\n",
    "\n",
    "    # model fitting\n",
    "    return  model"
   ]
  },
  {
   "cell_type": "code",
   "execution_count": 6,
   "metadata": {},
   "outputs": [
    {
     "output_type": "stream",
     "name": "stdout",
     "text": [
      "Epoch 1/30\n",
      "1875/1875 [==============================] - 34s 18ms/step - loss: 0.4971 - accuracy: 0.8233\n",
      "Epoch 2/30\n",
      "1875/1875 [==============================] - 41s 22ms/step - loss: 0.2545 - accuracy: 0.9072\n",
      "Epoch 3/30\n",
      "1875/1875 [==============================] - 37s 20ms/step - loss: 0.2036 - accuracy: 0.9248\n",
      "Epoch 4/30\n",
      "1875/1875 [==============================] - 44s 23ms/step - loss: 0.1594 - accuracy: 0.9433\n",
      "Epoch 5/30\n",
      "1875/1875 [==============================] - 37s 20ms/step - loss: 0.1298 - accuracy: 0.9527\n",
      "Epoch 6/30\n",
      "1875/1875 [==============================] - 36s 19ms/step - loss: 0.1084 - accuracy: 0.9596\n",
      "Epoch 7/30\n",
      "1875/1875 [==============================] - 35s 19ms/step - loss: 0.0944 - accuracy: 0.9654\n",
      "Epoch 8/30\n",
      "1875/1875 [==============================] - 34s 18ms/step - loss: 0.0737 - accuracy: 0.9737\n",
      "Epoch 9/30\n",
      "1875/1875 [==============================] - 37s 20ms/step - loss: 0.0638 - accuracy: 0.9762\n",
      "Epoch 10/30\n",
      "1875/1875 [==============================] - 29s 16ms/step - loss: 0.0573 - accuracy: 0.9795\n",
      "Epoch 11/30\n",
      "1875/1875 [==============================] - 31s 17ms/step - loss: 0.0514 - accuracy: 0.9816\n",
      "Epoch 12/30\n",
      "1875/1875 [==============================] - 31s 16ms/step - loss: 0.0415 - accuracy: 0.9853\n",
      "Epoch 13/30\n",
      "1875/1875 [==============================] - 31s 16ms/step - loss: 0.0406 - accuracy: 0.9851\n",
      "Epoch 14/30\n",
      "1875/1875 [==============================] - 31s 16ms/step - loss: 0.0362 - accuracy: 0.9866\n",
      "Epoch 15/30\n",
      "1875/1875 [==============================] - 31s 17ms/step - loss: 0.0320 - accuracy: 0.9890\n",
      "Epoch 16/30\n",
      "1875/1875 [==============================] - 32s 17ms/step - loss: 0.0342 - accuracy: 0.9883\n",
      "Epoch 17/30\n",
      "1875/1875 [==============================] - 32s 17ms/step - loss: 0.0287 - accuracy: 0.9900\n",
      "Epoch 18/30\n",
      "1875/1875 [==============================] - 39s 21ms/step - loss: 0.0242 - accuracy: 0.9913\n",
      "Epoch 19/30\n",
      "1875/1875 [==============================] - 34s 18ms/step - loss: 0.0245 - accuracy: 0.9915\n",
      "Epoch 20/30\n",
      "1875/1875 [==============================] - 35s 19ms/step - loss: 0.0242 - accuracy: 0.9916\n",
      "Epoch 21/30\n",
      "1875/1875 [==============================] - 35s 19ms/step - loss: 0.0266 - accuracy: 0.9911\n",
      "Epoch 22/30\n",
      "1875/1875 [==============================] - 35s 19ms/step - loss: 0.0219 - accuracy: 0.9925\n",
      "Epoch 23/30\n",
      "1875/1875 [==============================] - 36s 19ms/step - loss: 0.0194 - accuracy: 0.9931\n",
      "Epoch 24/30\n",
      "1875/1875 [==============================] - 46s 24ms/step - loss: 0.0270 - accuracy: 0.9913\n",
      "Epoch 25/30\n",
      "1875/1875 [==============================] - 40s 21ms/step - loss: 0.0235 - accuracy: 0.9919\n",
      "Epoch 26/30\n",
      "1875/1875 [==============================] - 34s 18ms/step - loss: 0.0183 - accuracy: 0.9937\n",
      "Epoch 27/30\n",
      "1875/1875 [==============================] - 42s 22ms/step - loss: 0.0189 - accuracy: 0.9939\n",
      "Epoch 28/30\n",
      "1875/1875 [==============================] - 42s 22ms/step - loss: 0.0197 - accuracy: 0.9939\n",
      "Epoch 29/30\n",
      "1875/1875 [==============================] - 42s 22ms/step - loss: 0.0194 - accuracy: 0.9938\n",
      "Epoch 30/30\n",
      "1875/1875 [==============================] - 39s 21ms/step - loss: 0.0154 - accuracy: 0.9946\n",
      "Reached trainig end returning model \n"
     ]
    }
   ],
   "source": [
    "model = train_mnist()"
   ]
  },
  {
   "cell_type": "code",
   "execution_count": 7,
   "metadata": {},
   "outputs": [
    {
     "output_type": "stream",
     "name": "stdout",
     "text": [
      "313/313 - 2s - loss: 0.8276 - accuracy: 0.9097\n",
      "\n",
      "Test accuracy: 0.9096999764442444\n"
     ]
    }
   ],
   "source": [
    "test_loss, test_acc = model.evaluate(x_test,y_test, verbose=2)\n",
    "print('\\nTest accuracy:', test_acc)"
   ]
  },
  {
   "cell_type": "code",
   "execution_count": 8,
   "metadata": {},
   "outputs": [
    {
     "output_type": "stream",
     "name": "stdout",
     "text": [
      "Model: \"sequential\"\n_________________________________________________________________\nLayer (type)                 Output Shape              Param #   \n=================================================================\nconv2d (Conv2D)              (None, 26, 26, 64)        640       \n_________________________________________________________________\nmax_pooling2d (MaxPooling2D) (None, 13, 13, 64)        0         \n_________________________________________________________________\nflatten (Flatten)            (None, 10816)             0         \n_________________________________________________________________\ndense (Dense)                (None, 128)               1384576   \n_________________________________________________________________\ndense_1 (Dense)              (None, 10)                1290      \n=================================================================\nTotal params: 1,386,506\nTrainable params: 1,386,506\nNon-trainable params: 0\n_________________________________________________________________\n"
     ]
    }
   ],
   "source": [
    "model.summary()"
   ]
  },
  {
   "cell_type": "code",
   "execution_count": 9,
   "metadata": {},
   "outputs": [
    {
     "output_type": "stream",
     "name": "stdout",
     "text": [
      "Pullover\n"
     ]
    }
   ],
   "source": [
    "predictions = model.predict(x_test)\n",
    "label = np.argmax(predictions[1])\n",
    "class_names = ['T-shirt/top', 'Trouser', 'Pullover', 'Dress', 'Coat',\n",
    "               'Sandal', 'Shirt', 'Sneaker', 'Bag', 'Ankle boot']\n",
    "print(class_names[label])"
   ]
  },
  {
   "cell_type": "code",
   "execution_count": 10,
   "metadata": {},
   "outputs": [
    {
     "output_type": "execute_result",
     "data": {
      "text/plain": [
       "<matplotlib.image.AxesImage at 0x17007f460>"
      ]
     },
     "metadata": {},
     "execution_count": 10
    },
    {
     "output_type": "display_data",
     "data": {
      "text/plain": "<Figure size 432x288 with 1 Axes>",
      "image/svg+xml": "<?xml version=\"1.0\" encoding=\"utf-8\" standalone=\"no\"?>\n<!DOCTYPE svg PUBLIC \"-//W3C//DTD SVG 1.1//EN\"\n  \"http://www.w3.org/Graphics/SVG/1.1/DTD/svg11.dtd\">\n<!-- Created with matplotlib (https://matplotlib.org/) -->\n<svg height=\"248.518125pt\" version=\"1.1\" viewBox=\"0 0 251.565 248.518125\" width=\"251.565pt\" xmlns=\"http://www.w3.org/2000/svg\" xmlns:xlink=\"http://www.w3.org/1999/xlink\">\n <metadata>\n  <rdf:RDF xmlns:cc=\"http://creativecommons.org/ns#\" xmlns:dc=\"http://purl.org/dc/elements/1.1/\" xmlns:rdf=\"http://www.w3.org/1999/02/22-rdf-syntax-ns#\">\n   <cc:Work>\n    <dc:type rdf:resource=\"http://purl.org/dc/dcmitype/StillImage\"/>\n    <dc:date>2021-05-04T19:35:45.513683</dc:date>\n    <dc:format>image/svg+xml</dc:format>\n    <dc:creator>\n     <cc:Agent>\n      <dc:title>Matplotlib v3.3.2, https://matplotlib.org/</dc:title>\n     </cc:Agent>\n    </dc:creator>\n   </cc:Work>\n  </rdf:RDF>\n </metadata>\n <defs>\n  <style type=\"text/css\">*{stroke-linecap:butt;stroke-linejoin:round;}</style>\n </defs>\n <g id=\"figure_1\">\n  <g id=\"patch_1\">\n   <path d=\"M 0 248.518125 \nL 251.565 248.518125 \nL 251.565 0 \nL 0 0 \nz\n\" style=\"fill:none;\"/>\n  </g>\n  <g id=\"axes_1\">\n   <g id=\"patch_2\">\n    <path d=\"M 26.925 224.64 \nL 244.365 224.64 \nL 244.365 7.2 \nL 26.925 7.2 \nz\n\" style=\"fill:#ffffff;\"/>\n   </g>\n   <g clip-path=\"url(#p57c55ca0e0)\">\n    <image height=\"218\" id=\"image4b65e1fb75\" transform=\"scale(1 -1)translate(0 -218)\" width=\"218\" x=\"26.925\" xlink:href=\"data:image/png;base64,\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\" y=\"-6.64\"/>\n   </g>\n   <g id=\"matplotlib.axis_1\">\n    <g id=\"xtick_1\">\n     <g id=\"line2d_1\">\n      <defs>\n       <path d=\"M 0 0 \nL 0 3.5 \n\" id=\"me304d31d3f\" style=\"stroke:#000000;stroke-width:0.8;\"/>\n      </defs>\n      <g>\n       <use style=\"stroke:#000000;stroke-width:0.8;\" x=\"30.807857\" xlink:href=\"#me304d31d3f\" y=\"224.64\"/>\n      </g>\n     </g>\n     <g id=\"text_1\">\n      <!-- 0 -->\n      <g transform=\"translate(27.626607 239.238437)scale(0.1 -0.1)\">\n       <defs>\n        <path d=\"M 31.78125 66.40625 \nQ 24.171875 66.40625 20.328125 58.90625 \nQ 16.5 51.421875 16.5 36.375 \nQ 16.5 21.390625 20.328125 13.890625 \nQ 24.171875 6.390625 31.78125 6.390625 \nQ 39.453125 6.390625 43.28125 13.890625 \nQ 47.125 21.390625 47.125 36.375 \nQ 47.125 51.421875 43.28125 58.90625 \nQ 39.453125 66.40625 31.78125 66.40625 \nz\nM 31.78125 74.21875 \nQ 44.046875 74.21875 50.515625 64.515625 \nQ 56.984375 54.828125 56.984375 36.375 \nQ 56.984375 17.96875 50.515625 8.265625 \nQ 44.046875 -1.421875 31.78125 -1.421875 \nQ 19.53125 -1.421875 13.0625 8.265625 \nQ 6.59375 17.96875 6.59375 36.375 \nQ 6.59375 54.828125 13.0625 64.515625 \nQ 19.53125 74.21875 31.78125 74.21875 \nz\n\" id=\"DejaVuSans-48\"/>\n       </defs>\n       <use xlink:href=\"#DejaVuSans-48\"/>\n      </g>\n     </g>\n    </g>\n    <g id=\"xtick_2\">\n     <g id=\"line2d_2\">\n      <g>\n       <use style=\"stroke:#000000;stroke-width:0.8;\" x=\"69.636429\" xlink:href=\"#me304d31d3f\" y=\"224.64\"/>\n      </g>\n     </g>\n     <g id=\"text_2\">\n      <!-- 5 -->\n      <g transform=\"translate(66.455179 239.238437)scale(0.1 -0.1)\">\n       <defs>\n        <path d=\"M 10.796875 72.90625 \nL 49.515625 72.90625 \nL 49.515625 64.59375 \nL 19.828125 64.59375 \nL 19.828125 46.734375 \nQ 21.96875 47.46875 24.109375 47.828125 \nQ 26.265625 48.1875 28.421875 48.1875 \nQ 40.625 48.1875 47.75 41.5 \nQ 54.890625 34.8125 54.890625 23.390625 \nQ 54.890625 11.625 47.5625 5.09375 \nQ 40.234375 -1.421875 26.90625 -1.421875 \nQ 22.3125 -1.421875 17.546875 -0.640625 \nQ 12.796875 0.140625 7.71875 1.703125 \nL 7.71875 11.625 \nQ 12.109375 9.234375 16.796875 8.0625 \nQ 21.484375 6.890625 26.703125 6.890625 \nQ 35.15625 6.890625 40.078125 11.328125 \nQ 45.015625 15.765625 45.015625 23.390625 \nQ 45.015625 31 40.078125 35.4375 \nQ 35.15625 39.890625 26.703125 39.890625 \nQ 22.75 39.890625 18.8125 39.015625 \nQ 14.890625 38.140625 10.796875 36.28125 \nz\n\" id=\"DejaVuSans-53\"/>\n       </defs>\n       <use xlink:href=\"#DejaVuSans-53\"/>\n      </g>\n     </g>\n    </g>\n    <g id=\"xtick_3\">\n     <g id=\"line2d_3\">\n      <g>\n       <use style=\"stroke:#000000;stroke-width:0.8;\" x=\"108.465\" xlink:href=\"#me304d31d3f\" y=\"224.64\"/>\n      </g>\n     </g>\n     <g id=\"text_3\">\n      <!-- 10 -->\n      <g transform=\"translate(102.1025 239.238437)scale(0.1 -0.1)\">\n       <defs>\n        <path d=\"M 12.40625 8.296875 \nL 28.515625 8.296875 \nL 28.515625 63.921875 \nL 10.984375 60.40625 \nL 10.984375 69.390625 \nL 28.421875 72.90625 \nL 38.28125 72.90625 \nL 38.28125 8.296875 \nL 54.390625 8.296875 \nL 54.390625 0 \nL 12.40625 0 \nz\n\" id=\"DejaVuSans-49\"/>\n       </defs>\n       <use xlink:href=\"#DejaVuSans-49\"/>\n       <use x=\"63.623047\" xlink:href=\"#DejaVuSans-48\"/>\n      </g>\n     </g>\n    </g>\n    <g id=\"xtick_4\">\n     <g id=\"line2d_4\">\n      <g>\n       <use style=\"stroke:#000000;stroke-width:0.8;\" x=\"147.293571\" xlink:href=\"#me304d31d3f\" y=\"224.64\"/>\n      </g>\n     </g>\n     <g id=\"text_4\">\n      <!-- 15 -->\n      <g transform=\"translate(140.931071 239.238437)scale(0.1 -0.1)\">\n       <use xlink:href=\"#DejaVuSans-49\"/>\n       <use x=\"63.623047\" xlink:href=\"#DejaVuSans-53\"/>\n      </g>\n     </g>\n    </g>\n    <g id=\"xtick_5\">\n     <g id=\"line2d_5\">\n      <g>\n       <use style=\"stroke:#000000;stroke-width:0.8;\" x=\"186.122143\" xlink:href=\"#me304d31d3f\" y=\"224.64\"/>\n      </g>\n     </g>\n     <g id=\"text_5\">\n      <!-- 20 -->\n      <g transform=\"translate(179.759643 239.238437)scale(0.1 -0.1)\">\n       <defs>\n        <path d=\"M 19.1875 8.296875 \nL 53.609375 8.296875 \nL 53.609375 0 \nL 7.328125 0 \nL 7.328125 8.296875 \nQ 12.9375 14.109375 22.625 23.890625 \nQ 32.328125 33.6875 34.8125 36.53125 \nQ 39.546875 41.84375 41.421875 45.53125 \nQ 43.3125 49.21875 43.3125 52.78125 \nQ 43.3125 58.59375 39.234375 62.25 \nQ 35.15625 65.921875 28.609375 65.921875 \nQ 23.96875 65.921875 18.8125 64.3125 \nQ 13.671875 62.703125 7.8125 59.421875 \nL 7.8125 69.390625 \nQ 13.765625 71.78125 18.9375 73 \nQ 24.125 74.21875 28.421875 74.21875 \nQ 39.75 74.21875 46.484375 68.546875 \nQ 53.21875 62.890625 53.21875 53.421875 \nQ 53.21875 48.921875 51.53125 44.890625 \nQ 49.859375 40.875 45.40625 35.40625 \nQ 44.1875 33.984375 37.640625 27.21875 \nQ 31.109375 20.453125 19.1875 8.296875 \nz\n\" id=\"DejaVuSans-50\"/>\n       </defs>\n       <use xlink:href=\"#DejaVuSans-50\"/>\n       <use x=\"63.623047\" xlink:href=\"#DejaVuSans-48\"/>\n      </g>\n     </g>\n    </g>\n    <g id=\"xtick_6\">\n     <g id=\"line2d_6\">\n      <g>\n       <use style=\"stroke:#000000;stroke-width:0.8;\" x=\"224.950714\" xlink:href=\"#me304d31d3f\" y=\"224.64\"/>\n      </g>\n     </g>\n     <g id=\"text_6\">\n      <!-- 25 -->\n      <g transform=\"translate(218.588214 239.238437)scale(0.1 -0.1)\">\n       <use xlink:href=\"#DejaVuSans-50\"/>\n       <use x=\"63.623047\" xlink:href=\"#DejaVuSans-53\"/>\n      </g>\n     </g>\n    </g>\n   </g>\n   <g id=\"matplotlib.axis_2\">\n    <g id=\"ytick_1\">\n     <g id=\"line2d_7\">\n      <defs>\n       <path d=\"M 0 0 \nL -3.5 0 \n\" id=\"m6fa42a5970\" style=\"stroke:#000000;stroke-width:0.8;\"/>\n      </defs>\n      <g>\n       <use style=\"stroke:#000000;stroke-width:0.8;\" x=\"26.925\" xlink:href=\"#m6fa42a5970\" y=\"11.082857\"/>\n      </g>\n     </g>\n     <g id=\"text_7\">\n      <!-- 0 -->\n      <g transform=\"translate(13.5625 14.882076)scale(0.1 -0.1)\">\n       <use xlink:href=\"#DejaVuSans-48\"/>\n      </g>\n     </g>\n    </g>\n    <g id=\"ytick_2\">\n     <g id=\"line2d_8\">\n      <g>\n       <use style=\"stroke:#000000;stroke-width:0.8;\" x=\"26.925\" xlink:href=\"#m6fa42a5970\" y=\"49.911429\"/>\n      </g>\n     </g>\n     <g id=\"text_8\">\n      <!-- 5 -->\n      <g transform=\"translate(13.5625 53.710647)scale(0.1 -0.1)\">\n       <use xlink:href=\"#DejaVuSans-53\"/>\n      </g>\n     </g>\n    </g>\n    <g id=\"ytick_3\">\n     <g id=\"line2d_9\">\n      <g>\n       <use style=\"stroke:#000000;stroke-width:0.8;\" x=\"26.925\" xlink:href=\"#m6fa42a5970\" y=\"88.74\"/>\n      </g>\n     </g>\n     <g id=\"text_9\">\n      <!-- 10 -->\n      <g transform=\"translate(7.2 92.539219)scale(0.1 -0.1)\">\n       <use xlink:href=\"#DejaVuSans-49\"/>\n       <use x=\"63.623047\" xlink:href=\"#DejaVuSans-48\"/>\n      </g>\n     </g>\n    </g>\n    <g id=\"ytick_4\">\n     <g id=\"line2d_10\">\n      <g>\n       <use style=\"stroke:#000000;stroke-width:0.8;\" x=\"26.925\" xlink:href=\"#m6fa42a5970\" y=\"127.568571\"/>\n      </g>\n     </g>\n     <g id=\"text_10\">\n      <!-- 15 -->\n      <g transform=\"translate(7.2 131.36779)scale(0.1 -0.1)\">\n       <use xlink:href=\"#DejaVuSans-49\"/>\n       <use x=\"63.623047\" xlink:href=\"#DejaVuSans-53\"/>\n      </g>\n     </g>\n    </g>\n    <g id=\"ytick_5\">\n     <g id=\"line2d_11\">\n      <g>\n       <use style=\"stroke:#000000;stroke-width:0.8;\" x=\"26.925\" xlink:href=\"#m6fa42a5970\" y=\"166.397143\"/>\n      </g>\n     </g>\n     <g id=\"text_11\">\n      <!-- 20 -->\n      <g transform=\"translate(7.2 170.196362)scale(0.1 -0.1)\">\n       <use xlink:href=\"#DejaVuSans-50\"/>\n       <use x=\"63.623047\" xlink:href=\"#DejaVuSans-48\"/>\n      </g>\n     </g>\n    </g>\n    <g id=\"ytick_6\">\n     <g id=\"line2d_12\">\n      <g>\n       <use style=\"stroke:#000000;stroke-width:0.8;\" x=\"26.925\" xlink:href=\"#m6fa42a5970\" y=\"205.225714\"/>\n      </g>\n     </g>\n     <g id=\"text_12\">\n      <!-- 25 -->\n      <g transform=\"translate(7.2 209.024933)scale(0.1 -0.1)\">\n       <use xlink:href=\"#DejaVuSans-50\"/>\n       <use x=\"63.623047\" xlink:href=\"#DejaVuSans-53\"/>\n      </g>\n     </g>\n    </g>\n   </g>\n   <g id=\"patch_3\">\n    <path d=\"M 26.925 224.64 \nL 26.925 7.2 \n\" style=\"fill:none;stroke:#000000;stroke-linecap:square;stroke-linejoin:miter;stroke-width:0.8;\"/>\n   </g>\n   <g id=\"patch_4\">\n    <path d=\"M 244.365 224.64 \nL 244.365 7.2 \n\" style=\"fill:none;stroke:#000000;stroke-linecap:square;stroke-linejoin:miter;stroke-width:0.8;\"/>\n   </g>\n   <g id=\"patch_5\">\n    <path d=\"M 26.925 224.64 \nL 244.365 224.64 \n\" style=\"fill:none;stroke:#000000;stroke-linecap:square;stroke-linejoin:miter;stroke-width:0.8;\"/>\n   </g>\n   <g id=\"patch_6\">\n    <path d=\"M 26.925 7.2 \nL 244.365 7.2 \n\" style=\"fill:none;stroke:#000000;stroke-linecap:square;stroke-linejoin:miter;stroke-width:0.8;\"/>\n   </g>\n  </g>\n </g>\n <defs>\n  <clipPath id=\"p57c55ca0e0\">\n   <rect height=\"217.44\" width=\"217.44\" x=\"26.925\" y=\"7.2\"/>\n  </clipPath>\n </defs>\n</svg>\n",
      "image/png": "[encoded data removed]"
     },
     "metadata": {
      "needs_background": "light"
     }
    }
   ],
   "source": [
    "# Example of a picture\n",
    "index = 1\n",
    "plt.imshow(x_test[index])"
   ]
  },
  {
   "cell_type": "code",
   "execution_count": 3,
   "metadata": {},
   "outputs": [],
   "source": [
    "\n",
    "def load_image(filename):\n",
    "\t# load the image\n",
    "    img = cv2.imread(filename)\n",
    "\t# convert to array\n",
    "    img = np.array(img)\n",
    "    # reshape into a single sample with 1 channel\n",
    "    img = cv2.resize(img, (28, 28))\n",
    "    img = cv2.cvtColor(img, cv2.COLOR_BGR2GRAY)\n",
    "    # prepare pixel data\n",
    "    img = img.astype('float32')\n",
    "    # normalize the data \n",
    "    img = img / 255.0\n",
    "    # return the image\n",
    "    return img"
   ]
  },
  {
   "cell_type": "code",
   "execution_count": 4,
   "metadata": {},
   "outputs": [],
   "source": [
    "def predict(img):\n",
    "    # reshape the image\n",
    "    img = np.expand_dims(img, axis=0)\n",
    "    # predict the image lavel \n",
    "    label = model.predict(img)\n",
    "    # return the prediction \n",
    "    return class_names[np.argmax(label)]"
   ]
  },
  {
   "cell_type": "code",
   "execution_count": 10,
   "metadata": {},
   "outputs": [
    {
     "output_type": "error",
     "ename": "NameError",
     "evalue": "name 'model' is not defined",
     "traceback": [
      "\u001b[0;31m---------------------------------------------------------------------------\u001b[0m",
      "\u001b[0;31mNameError\u001b[0m                                 Traceback (most recent call last)",
      "\u001b[0;32m<ipython-input-10-c2a4aa467ff2>\u001b[0m in \u001b[0;36m<module>\u001b[0;34m\u001b[0m\n\u001b[1;32m      1\u001b[0m \u001b[0mimg\u001b[0m \u001b[0;34m=\u001b[0m \u001b[0mload_image\u001b[0m\u001b[0;34m(\u001b[0m\u001b[0;34m'/Users/prashunjaveri/Desktop/dress_1.jpeg'\u001b[0m\u001b[0;34m)\u001b[0m\u001b[0;34m\u001b[0m\u001b[0;34m\u001b[0m\u001b[0m\n\u001b[1;32m      2\u001b[0m \u001b[0mplt\u001b[0m\u001b[0;34m.\u001b[0m\u001b[0mimshow\u001b[0m\u001b[0;34m(\u001b[0m\u001b[0mimg\u001b[0m\u001b[0;34m)\u001b[0m\u001b[0;34m\u001b[0m\u001b[0;34m\u001b[0m\u001b[0m\n\u001b[0;32m----> 3\u001b[0;31m \u001b[0mprint\u001b[0m\u001b[0;34m(\u001b[0m\u001b[0mpredict\u001b[0m\u001b[0;34m(\u001b[0m\u001b[0mimg\u001b[0m\u001b[0;34m)\u001b[0m\u001b[0;34m)\u001b[0m\u001b[0;34m\u001b[0m\u001b[0;34m\u001b[0m\u001b[0m\n\u001b[0m",
      "\u001b[0;32m<ipython-input-4-44c331c58ff4>\u001b[0m in \u001b[0;36mpredict\u001b[0;34m(img)\u001b[0m\n\u001b[1;32m      3\u001b[0m     \u001b[0mimg\u001b[0m \u001b[0;34m=\u001b[0m \u001b[0mnp\u001b[0m\u001b[0;34m.\u001b[0m\u001b[0mexpand_dims\u001b[0m\u001b[0;34m(\u001b[0m\u001b[0mimg\u001b[0m\u001b[0;34m,\u001b[0m \u001b[0maxis\u001b[0m\u001b[0;34m=\u001b[0m\u001b[0;36m0\u001b[0m\u001b[0;34m)\u001b[0m\u001b[0;34m\u001b[0m\u001b[0;34m\u001b[0m\u001b[0m\n\u001b[1;32m      4\u001b[0m     \u001b[0;31m# predict the image lavel\u001b[0m\u001b[0;34m\u001b[0m\u001b[0;34m\u001b[0m\u001b[0;34m\u001b[0m\u001b[0m\n\u001b[0;32m----> 5\u001b[0;31m     \u001b[0mlabel\u001b[0m \u001b[0;34m=\u001b[0m \u001b[0mmodel\u001b[0m\u001b[0;34m.\u001b[0m\u001b[0mpredict\u001b[0m\u001b[0;34m(\u001b[0m\u001b[0mimg\u001b[0m\u001b[0;34m)\u001b[0m\u001b[0;34m\u001b[0m\u001b[0;34m\u001b[0m\u001b[0m\n\u001b[0m\u001b[1;32m      6\u001b[0m     \u001b[0;31m# return the prediction\u001b[0m\u001b[0;34m\u001b[0m\u001b[0;34m\u001b[0m\u001b[0;34m\u001b[0m\u001b[0m\n\u001b[1;32m      7\u001b[0m     \u001b[0;32mreturn\u001b[0m \u001b[0mclass_names\u001b[0m\u001b[0;34m[\u001b[0m\u001b[0mnp\u001b[0m\u001b[0;34m.\u001b[0m\u001b[0margmax\u001b[0m\u001b[0;34m(\u001b[0m\u001b[0mlabel\u001b[0m\u001b[0;34m)\u001b[0m\u001b[0;34m]\u001b[0m\u001b[0;34m\u001b[0m\u001b[0;34m\u001b[0m\u001b[0m\n",
      "\u001b[0;31mNameError\u001b[0m: name 'model' is not defined"
     ]
    }
   ],
   "source": [
    "img = load_image('/Users/prashunjaveri/Desktop/dress_1.jpeg')\n",
    "plt.imshow(img)\n",
    "print(predict(img))"
   ]
  },
  {
   "cell_type": "code",
   "execution_count": null,
   "metadata": {},
   "outputs": [],
   "source": [
    "# save the model \n",
    "def save_model(path):\n",
    "    #save the model to path \n",
    "    model.save(path)"
   ]
  },
  {
   "cell_type": "code",
   "execution_count": null,
   "metadata": {},
   "outputs": [],
   "source": [
    "def load_model(path):\n",
    "    #load the model \n",
    "    new_model = tf.keras.models.load_model(path)\n",
    "    # Check its architecture\n",
    "    new_model.summary()\n",
    "    #return the model\n",
    "    return new_model"
   ]
  },
  {
   "cell_type": "code",
   "execution_count": null,
   "metadata": {},
   "outputs": [],
   "source": [
    "save_model('./models/multi_class_image_classifier_cnn')"
   ]
  },
  {
   "cell_type": "code",
   "execution_count": null,
   "metadata": {},
   "outputs": [],
   "source": [
    "model = load_model('./models/multi_class_image_classifier_cnn')"
   ]
  },
  {
   "cell_type": "code",
   "execution_count": null,
   "metadata": {},
   "outputs": [],
   "source": [
    "def predict(img):\n",
    "    # reshape the image\n",
    "    img = img.reshape(1,28,28,1)\n",
    "    # predict the image lavel \n",
    "    label = model.predict(img)\n",
    "    # return the prediction \n",
    "    return class_names[np.argmax(label)]"
   ]
  },
  {
   "cell_type": "code",
   "execution_count": null,
   "metadata": {},
   "outputs": [],
   "source": [
    "img = load_image('/Users/prashunjaveri/Desktop/boot.jpeg')\n",
    "plt.imshow(img)\n",
    "predict(img)"
   ]
  },
  {
   "cell_type": "code",
   "execution_count": null,
   "metadata": {},
   "outputs": [],
   "source": [
    "def evaluate(root_dir):\n",
    "    predictions = []\n",
    "    predicted_labels = []\n",
    "    file_names = [] \n",
    "    for root, dirs, files in os.walk(root_dir):\n",
    "        for f in files:\n",
    "            if f.split('.')[1] == 'jpeg' or f.split('.')[1] == 'png' :\n",
    "                path = os.path.join(root_dir,f)\n",
    "                file_names.append(f)\n",
    "                img = load_image(path)\n",
    "                label = predict(img)\n",
    "                predictions.append(class_names.index(label))\n",
    "                predicted_labels.append(label)\n",
    "    return (file_names , predictions , predicted_labels )"
   ]
  },
  {
   "cell_type": "code",
   "execution_count": null,
   "metadata": {},
   "outputs": [],
   "source": [
    "import pandas as pd \n",
    "\n",
    "\n",
    "def get_expected_labels(predictions):\n",
    "    labels = []\n",
    "    for p in predictions:\n",
    "        labels.append(class_names[p])\n",
    "    return  labels\n",
    "\n",
    "def create_report(path, expected):\n",
    "    predictions  = evaluate(path)\n",
    "    expected = expected['predictions'].values\n",
    "    expected_labels = get_expected_labels(expected)\n",
    "    df = pd.DataFrame({\n",
    "        'file':predictions[0] ,\n",
    "        'predictions':predictions[1],\n",
    "        'predicted_labels':predictions[2],\n",
    "        'expected':expected,\n",
    "        'expected_labels':expected_labels\n",
    "        })\n",
    "\n",
    "    total_number_of_files  = len(predictions[0])\n",
    "    all_data = df.to_json(orient=\"split\")\n",
    "    \n",
    "    all_df = df \n",
    "\n",
    "    comparison_column = np.where(all_df[\"predictions\"] == all_df[\"expected\"], True, False)\n",
    "    all_df[\"equal\"] = comparison_column\n",
    "\n",
    "    df = all_df[all_df['equal'] == False]\n",
    "    wrongly_identified_data = df.to_json(orient=\"split\")\n",
    "    no_of_wrongly_identified_files = len(df[\"file\"].values)\n",
    "\n",
    "    df = all_df[all_df['equal'] == True]\n",
    "    correctly_identified_data = df.to_json(orient=\"split\")\n",
    "\n",
    "    percentage_error = 100 - (( total_number_of_files - no_of_wrongly_identified_files ) / total_number_of_files ) * 100\n",
    "    return (all_data,wrongly_identified_data,correctly_identified_data,percentage_error)"
   ]
  },
  {
   "cell_type": "code",
   "execution_count": null,
   "metadata": {},
   "outputs": [],
   "source": [
    "import json \n",
    "\n",
    "df = pd.DataFrame({ 'predictions': [3] })\n",
    "\n",
    "all_rows,wrongly_identified,correctly_identified_data,percentage_error = create_report('/Users/prashunjaveri/Desktop/fashion_mnist', df)\n",
    "\n",
    "def append_all_rows_to_result(all_rows,result):\n",
    "    data = json.loads(all_rows)['data']\n",
    "    columns = json.loads(all_rows)['columns']\n",
    "    row_map = {}\n",
    "    rows = [] \n",
    "    for row in data:\n",
    "        for index,item in enumerate(row) :\n",
    "            row_map[columns[index]] = item \n",
    "        rows.append(row_map)       \n",
    "    result['all'] = rows\n",
    "    return result \n",
    "\n",
    "def append_rows_with_errors_result(wrongly_identified,result):\n",
    "    data = json.loads(wrongly_identified)['data']\n",
    "    columns = json.loads(wrongly_identified)['columns']\n",
    "    row_map = {}\n",
    "    rows = [] \n",
    "    for row in data:\n",
    "        for index,item in enumerate(row[0:len(row)-1]) :\n",
    "            row_map[columns[index]] = item \n",
    "        rows.append(row_map)       \n",
    "    result['errors'] = rows\n",
    "    return result \n",
    "\n",
    "def append_rows_with_correct_result(correctly_identified_data,result):\n",
    "    data = json.loads(correctly_identified_data)['data']\n",
    "    columns = json.loads(correctly_identified_data)['columns']\n",
    "    row_map = {}\n",
    "    rows = [] \n",
    "    for row in data:\n",
    "        for index,item in enumerate(row[0:len(row)-1]) :\n",
    "            row_map[columns[index]] = item \n",
    "        rows.append(row_map)       \n",
    "    result['correct'] = rows\n",
    "    return result \n",
    "\n",
    "result = {}\n",
    "\n",
    "def generate_report(result = {}):\n",
    "    result = append_all_rows_to_result(all_rows,result)\n",
    "    result = append_rows_with_errors_result(wrongly_identified,result)\n",
    "    result = append_rows_with_correct_result(correctly_identified_data,result)\n",
    "    result['percentage_error'] = percentage_error\n",
    "    return result "
   ]
  },
  {
   "cell_type": "code",
   "execution_count": null,
   "metadata": {},
   "outputs": [],
   "source": [
    "result = json.dumps(generate_report({}), indent=4, sort_keys=True)\n",
    "print(result)"
   ]
  }
 ],
 "metadata": {
  "kernelspec": {
   "display_name": "Python 3",
   "language": "python",
   "name": "python3"
  },
  "language_info": {
   "codemirror_mode": {
    "name": "ipython",
    "version": 3
   },
   "file_extension": ".py",
   "mimetype": "text/x-python",
   "name": "python",
   "nbconvert_exporter": "python",
   "pygments_lexer": "ipython3",
   "version": "3.8.5"
  }
 },
 "nbformat": 4,
 "nbformat_minor": 4
}