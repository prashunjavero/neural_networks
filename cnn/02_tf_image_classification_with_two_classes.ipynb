{
 "cells": [
  {
   "cell_type": "code",
   "execution_count": 1,
   "metadata": {},
   "outputs": [],
   "source": [
    "import zipfile\n",
    "from pathlib import Path\n",
    "import shutil\n",
    "import tensorflow as tf\n",
    "from tensorflow import keras\n",
    "from tensorflow.keras.optimizers import RMSprop\n",
    "from tensorflow.keras.preprocessing.image import ImageDataGenerator"
   ]
  },
  {
   "cell_type": "code",
   "execution_count": 2,
   "metadata": {},
   "outputs": [],
   "source": [
    "root_dir = \"../../tensorflow_datasets/dogs-vs-cats\"\n",
    "dirpath = Path(root_dir)\n",
    "if dirpath.exists() and dirpath.is_dir():\n",
    "    shutil.rmtree(dirpath)"
   ]
  },
  {
   "cell_type": "code",
   "execution_count": 3,
   "metadata": {},
   "outputs": [
    {
     "output_type": "stream",
     "name": "stdout",
     "text": [
      "../../tensorflow_datasets/dogs-vs-cats\n"
     ]
    }
   ],
   "source": [
    "with zipfile.ZipFile(\"../../tensorflow_datasets/dogs-vs-cats.zip\",\"r\") as zip_ref:\n",
    "    print(root_dir)\n",
    "    zip_ref.extractall(root_dir)\n",
    "    zip_ref.close()"
   ]
  },
  {
   "cell_type": "code",
   "execution_count": 4,
   "metadata": {},
   "outputs": [
    {
     "output_type": "stream",
     "name": "stdout",
     "text": [
      "../../tensorflow_datasets/dogs-vs-cats/test1.zip\n",
      "../../tensorflow_datasets/dogs-vs-cats/train.zip\n"
     ]
    }
   ],
   "source": [
    "for (root,dirs,files) in os.walk(root_dir, topdown=True):\n",
    "        for f in files:\n",
    "            if f.split('.')[1] == 'zip':\n",
    "                path = os.path.join(root_dir,f.split('.')[0]+'.zip')\n",
    "                print(path)\n",
    "                zf = zipfile.ZipFile(path, 'r')\n",
    "                zf.extractall(root_dir)\n",
    "                zf.close()\n",
    "                # zip_ref.extract(path)"
   ]
  },
  {
   "cell_type": "code",
   "execution_count": 5,
   "metadata": {},
   "outputs": [],
   "source": [
    "for (root,dirs,files) in os.walk(root_dir.split('.')[0], topdown=True):\n",
    "        for f in files:\n",
    "            if f.split('.')[1] == 'zip':\n",
    "                path = os.path.join(root_dir.spli('.')[0],f.split('.')[0],'.zip')\n",
    "                os.remove(path)"
   ]
  },
  {
   "cell_type": "code",
   "execution_count": 6,
   "metadata": {},
   "outputs": [],
   "source": [
    "os.rename('../../tensorflow_datasets/dogs-vs-cats/test1','../../tensorflow_datasets/dogs-vs-cats/test')\n",
    "os.mkdir('../../tensorflow_datasets/dogs-vs-cats/train/cats')\n",
    "os.mkdir('../../tensorflow_datasets/dogs-vs-cats/train/dogs')\n",
    "os.mkdir('../../tensorflow_datasets/dogs-vs-cats/validation/cats')\n",
    "os.mkdir('../../tensorflow_datasets/dogs-vs-cats/validation/dogs')"
   ]
  },
  {
   "cell_type": "code",
   "execution_count": null,
   "metadata": {},
   "outputs": [],
   "source": [
    "#split data into train and validation "
   ]
  },
  {
   "cell_type": "code",
   "execution_count": 7,
   "metadata": {
    "tags": []
   },
   "outputs": [],
   "source": [
    "from os import walk\n",
    "_, _, filenames = next(walk('../../tensorflow_datasets/dogs-vs-cats/train'))\n",
    "for name in filenames:\n",
    "    if name.split('.')[0] == 'cat':\n",
    "        src_path = os.path.join('../../tensorflow_datasets/dogs-vs-cats/train',name)\n",
    "        dst_path = os.path.join('../../tensorflow_datasets/dogs-vs-cats/train/cats',name)\n",
    "        shutil.copyfile(src_path,dst_path)\n",
    "    else:\n",
    "        src_path = os.path.join('../../tensorflow_datasets/dogs-vs-cats/train',name)\n",
    "        dst_path = os.path.join('../../tensorflow_datasets/dogs-vs-cats/train/dogs',name)\n",
    "        shutil.copyfile(src_path,dst_path)"
   ]
  },
  {
   "cell_type": "code",
   "execution_count": 8,
   "metadata": {},
   "outputs": [
    {
     "output_type": "stream",
     "name": "stdout",
     "text": [
      "Found 25000 images belonging to 2 classes.\n"
     ]
    }
   ],
   "source": [
    "TRAINING_DIR = '../../tensorflow_datasets/dogs-vs-cats/train'\n",
    "\n",
    "train_datagen = ImageDataGenerator(\n",
    "    rescale=1 / 255,\n",
    "    horizontal_flip=True, \n",
    "    vertical_flip=True,\n",
    "    fill_mode='nearest',\n",
    "    shear_range=0.2,\n",
    "    zoom_range=0.2,\n",
    "    rotation_range=90,\n",
    "    width_shift_range=0.1,\n",
    "    height_shift_range=0.1)\n",
    "\n",
    "train_generator = train_datagen.flow_from_directory(\n",
    "    TRAINING_DIR,\n",
    "    batch_size=64,\n",
    "    class_mode='binary',\n",
    "    target_size=(150, 150)\n",
    ")\n",
    "\n",
    "#add validation data generator "
   ]
  },
  {
   "cell_type": "code",
   "execution_count": 9,
   "metadata": {},
   "outputs": [
    {
     "output_type": "stream",
     "name": "stdout",
     "text": [
      "Model: \"sequential\"\n",
      "_________________________________________________________________\n",
      "Layer (type)                 Output Shape              Param #   \n",
      "=================================================================\n",
      "conv2d (Conv2D)              (None, 148, 148, 16)      448       \n",
      "_________________________________________________________________\n",
      "max_pooling2d (MaxPooling2D) (None, 74, 74, 16)        0         \n",
      "_________________________________________________________________\n",
      "conv2d_1 (Conv2D)            (None, 72, 72, 32)        4640      \n",
      "_________________________________________________________________\n",
      "max_pooling2d_1 (MaxPooling2 (None, 36, 36, 32)        0         \n",
      "_________________________________________________________________\n",
      "conv2d_2 (Conv2D)            (None, 34, 34, 64)        18496     \n",
      "_________________________________________________________________\n",
      "max_pooling2d_2 (MaxPooling2 (None, 17, 17, 64)        0         \n",
      "_________________________________________________________________\n",
      "flatten (Flatten)            (None, 18496)             0         \n",
      "_________________________________________________________________\n",
      "dense (Dense)                (None, 128)               2367616   \n",
      "_________________________________________________________________\n",
      "dense_1 (Dense)              (None, 1)                 129       \n",
      "=================================================================\n",
      "Total params: 2,391,329\n",
      "Trainable params: 2,391,329\n",
      "Non-trainable params: 0\n",
      "_________________________________________________________________\n",
      "Epoch 1/2\n",
      "391/391 [==============================] - 405s 1s/step - loss: 0.0125 - acc: 0.9849\n",
      "Epoch 2/2\n",
      "391/391 [==============================] - 406s 1s/step - loss: 9.7424e-11 - acc: 1.0000\n"
     ]
    }
   ],
   "source": [
    "model = tf.keras.models.Sequential([\n",
    "    tf.keras.layers.Conv2D(16,(3,3),strides=(1, 1), padding='valid',input_shape=(150,150,3)),\n",
    "    tf.keras.layers.MaxPool2D(pool_size=(2, 2)),\n",
    "    tf.keras.layers.Conv2D(32,(3,3),strides=(1, 1), padding='valid'),\n",
    "    tf.keras.layers.MaxPool2D(pool_size=(2, 2)),\n",
    "    tf.keras.layers.Conv2D(64,(3,3),strides=(1, 1), padding='valid'),\n",
    "    tf.keras.layers.MaxPool2D(pool_size=(2, 2)),\n",
    "    tf.keras.layers.Flatten(),\n",
    "    tf.keras.layers.Dense(128 , activation = tf.nn.relu ),\n",
    "    tf.keras.layers.Dense(1,  activation = tf.nn.sigmoid)\n",
    "])\n",
    "\n",
    "model.compile(optimizer=RMSprop(lr=0.001), loss='binary_crossentropy', metrics=['acc'])\n",
    "\n",
    "model.summary()\n",
    "\n",
    "history = model.fit(train_generator,epochs=2,verbose=1)\n"
   ]
  },
  {
   "cell_type": "code",
   "execution_count": null,
   "metadata": {},
   "outputs": [],
   "source": [
    "# add prediction from unknown image "
   ]
  },
  {
   "cell_type": "code",
   "execution_count": null,
   "metadata": {},
   "outputs": [],
   "source": [
    "# save the model "
   ]
  }
 ],
 "metadata": {
  "kernelspec": {
   "display_name": "Python 3",
   "language": "python",
   "name": "python3"
  },
  "language_info": {
   "codemirror_mode": {
    "name": "ipython",
    "version": 3
   },
   "file_extension": ".py",
   "mimetype": "text/x-python",
   "name": "python",
   "nbconvert_exporter": "python",
   "pygments_lexer": "ipython3",
   "version": "3.8.5"
  }
 },
 "nbformat": 4,
 "nbformat_minor": 4
}